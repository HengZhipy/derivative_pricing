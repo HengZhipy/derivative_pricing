{
 "cells": [
  {
   "cell_type": "markdown",
   "metadata": {},
   "source": [
    "# 雪球产品定价\n",
    "## 一、雪球产品期权结构\n",
    "&emsp; 雪球产品本质上是带有敲入敲出机制的认沽期权，挂钩标的为股票指数，发行方为认沽期权多头，购买方为认沽期权空头，期初付出期权费（通常设为0），承担股指下跌风险，获得票息收入。敲入水平=指数期初价格×敲入比率，敲出水平=指数期初价格×敲出比率，敲入每日末观察，敲出每月末观察。例如，敲入比率=70%，敲出比率=100%，票息=21%（年化）。  \n",
    "&emsp; 可能发生的4种收益支付情况：\n",
    "1. 未发生敲入，未发生敲出：到期后发行方向购买方支付票息\n",
    "2. 发生敲入，发生敲出：敲出时产品提前终止，发行方向购买方支付票息\n",
    "3. 未发生敲入，发生敲出：敲出时产品提前终止，发行方向购买方支付票息\n",
    "4. 发生敲入，未发生敲出：敲入后发行方向购买方根据每日结算情况追保，到期后购买方承担标的下跌亏损，不获得票息\n",
    "\n",
    "例：  \n",
    "|指标|值|参数|\n",
    "|--|--|--|\n",
    "|敲入边界|0.85|initpara_0|\n",
    "|敲出边界|1.03|initpara_1|\n",
    "|到期时间|1年（252个交易日）|initpara_2|\n",
    "|敲入观察日|252个交易日|initpara_3|\n",
    "|敲出观察日|12个月的最后1个交易日|initpara_4|\n",
    "|票息（年化）|0.2|initpara_5|\n",
    "|无风险利率（年化）|0.03|initpara_6|\n",
    "|标的波动率（年化）|0.13|initpara_7|\n",
    "|标的初始价格|1|initpara_8|\n",
    "|模拟路径条数|300000|mcpara_0|"
   ]
  },
  {
   "cell_type": "code",
   "execution_count": null,
   "metadata": {},
   "outputs": [],
   "source": [
    "class snowball(object):\n",
    "  def __init__(self, initpara:tuple):\n",
    "    self.knockin_ratio=initpara[0]\n",
    "    self.knockout_ratio=initpara[1]\n",
    "    self.maturity=initpara[2]\n",
    "    self.knockin_obs=initpara[3]\n",
    "    self.knockout_obs=initpara[4]\n",
    "    self.coupon=initpara[5]\n",
    "    self.riskfree_rate=initpara[6]\n",
    "    self.volatility=initpara[7]\n",
    "  def montecarlo_pricing(self, mcpara):\n",
    "    init_spotprice=mcpara[0]\n",
    "    simulation_num=mcpara[1]\n",
    "    \n",
    "\n"
   ]
  },
  {
   "cell_type": "markdown",
   "metadata": {},
   "source": [
    "\n",
    "## 二、雪球产品发行方如何对冲风险\n",
    "### （一）delta对冲思想\n",
    "&emsp; 计算雪球空头的delta值（负值），发行方买入-delta倍的指数对冲。对冲方式可以看作高抛低吸。"
   ]
  },
  {
   "cell_type": "markdown",
   "metadata": {},
   "source": [
    "## 三、雪球产品如何定价"
   ]
  },
  {
   "cell_type": "markdown",
   "metadata": {},
   "source": [
    "## 四、不同雪球结构的选择\n",
    "### （一）普通雪球产品的适用场景\n",
    "&emsp; 从价格预期看，小幅下跌空间+小幅上涨空间；从收益优化看，可在符合价格预期的条件下，优化底仓收益、产品估值、理财收益等\n",
    "### （一）阶梯式雪球\n",
    "&emsp; 敲出水平随日期接近存续期结束下降，投资者可获得的票息较少。\n",
    "### （二）不追保雪球\n",
    "&emsp; 在雪球存续期间不追保，相应的，投资者可获得的票息较少。\n",
    "### （三）小雪球\n",
    "&emsp; 不设敲入条件，购买方最大亏损为期权费，投资者可获得的票息较少。"
   ]
  },
  {
   "cell_type": "code",
   "execution_count": null,
   "metadata": {},
   "outputs": [],
   "source": [
    "#test\n",
    "\n",
    "import numpy as np\n",
    "simuarray=np.ran"
   ]
  }
 ],
 "metadata": {
  "kernelspec": {
   "display_name": "Python 3.9.7 ('base')",
   "language": "python",
   "name": "python3"
  },
  "language_info": {
   "codemirror_mode": {
    "name": "ipython",
    "version": 3
   },
   "file_extension": ".py",
   "mimetype": "text/x-python",
   "name": "python",
   "nbconvert_exporter": "python",
   "pygments_lexer": "ipython3",
   "version": "3.9.7"
  },
  "orig_nbformat": 4,
  "vscode": {
   "interpreter": {
    "hash": "e42634819b8c191a5d07eaf23810ff32516dd8d3875f28ec3e488928fbd3c187"
   }
  }
 },
 "nbformat": 4,
 "nbformat_minor": 2
}
