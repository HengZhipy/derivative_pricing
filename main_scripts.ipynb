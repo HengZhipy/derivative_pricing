{
 "cells": [
  {
   "cell_type": "markdown",
   "metadata": {},
   "source": [
    "### Script 1. 欧式期权的BS定价与Greeks"
   ]
  },
  {
   "cell_type": "code",
   "execution_count": null,
   "metadata": {},
   "outputs": [],
   "source": [
    "import deriv_func as defu\n",
    "import pandas as pd\n",
    "days=90\n",
    "# S0,K,T,sigma,r = 100, 105, days/365, 0.2, 0.02\n",
    "S0,K,T,sigma,r=1,1,1,0.13,0.03\n",
    "# 看涨期权计算\n",
    "call_price=defu.bs_european_option_pricing(S0,K,T,sigma,r)\n",
    "call_delta=defu.bs_european_option_greeks(S0,K,T,sigma,r,type='call',greekstype='delta')\n",
    "call_gamma=defu.bs_european_option_greeks(S0,K,T,sigma,r,type='call',greekstype='gamma')\n",
    "call_theta=defu.bs_european_option_greeks(S0,K,T,sigma,r,type='call',greekstype='theta')/365\n",
    "call_vega=defu.bs_european_option_greeks(S0,K,T,sigma,r,type='call',greekstype='vega')\n",
    "call_rho=defu.bs_european_option_greeks(S0,K,T,sigma,r,type='call',greekstype='rho')\n",
    "# 看跌期权计算\n",
    "put_price=defu.bs_european_option_pricing(S0,K,T,sigma,r,type='put')\n",
    "put_delta=defu.bs_european_option_greeks(S0,K,T,sigma,r,type='put',greekstype='delta')\n",
    "put_gamma=defu.bs_european_option_greeks(S0,K,T,sigma,r,type='put',greekstype='gamma')\n",
    "put_theta=defu.bs_european_option_greeks(S0,K,T,sigma,r,type='put',greekstype='theta')/365\n",
    "put_vega=defu.bs_european_option_greeks(S0,K,T,sigma,r,type='put',greekstype='vega')\n",
    "put_rho=defu.bs_european_option_greeks(S0,K,T,sigma,r,type='put',greekstype='rho')\n",
    "# 输出表格\n",
    "european_option_df=pd.DataFrame([[call_price,call_delta,call_gamma,call_theta,call_vega,call_rho],\n",
    "                                  [put_price,put_delta,put_gamma,put_theta,put_vega,put_rho]],\n",
    "                                  columns=['price','delta','gamma','theta','vega','rho'],index=['call','put'])\n",
    "print(european_option_df)\n",
    "print('注：theta按年计算后除以365')"
   ]
  },
  {
   "cell_type": "markdown",
   "metadata": {},
   "source": [
    "### Script 2. 欧式期权的隐含波动率"
   ]
  },
  {
   "cell_type": "code",
   "execution_count": null,
   "metadata": {},
   "outputs": [],
   "source": [
    "import deriv_func as defu\n",
    "import pandas as pd\n",
    "days=90\n",
    "S0,K,T,r = 100, 105, days/365, 0.02\n",
    "call_price=2.195586\n",
    "call_impvola=defu.bs_european_option_impvola(call_price,S0,K,T,r,type='call')\n",
    "put_price=6.679052\n",
    "put_impvola=defu.bs_european_option_impvola(put_price,S0,K,T,r,type='put')\n",
    "print('call_impvola=',call_impvola,'put_impvola=',put_impvola)"
   ]
  },
  {
   "cell_type": "markdown",
   "metadata": {},
   "source": [
    "### Script 3. 欧式期权价值对标的价格的函数图像"
   ]
  },
  {
   "cell_type": "code",
   "execution_count": null,
   "metadata": {},
   "outputs": [],
   "source": [
    "import deriv_func as defu\n",
    "# 期权参数设定\n",
    "days=90\n",
    "S0_min, S0_max=90, 120\n",
    "granularity=1\n",
    "K,T,sigma,r = 105, days/365,0.2, 0.02\n",
    "# 期权设为欧式看跌期权\n",
    "bs_european_option_fig=lambda S0: defu.bs_european_option_pricing(S0,K,T,sigma,r,type='put')\n",
    "# 用defu.fig_anyfunc绘图\n",
    "defu.fig_anyfunc(bs_european_option_fig,S0_min,S0_max,granularity,xlabel='S0',ylabel='option_value',title='european_put_option_value')\n"
   ]
  },
  {
   "cell_type": "markdown",
   "metadata": {},
   "source": [
    "### Script 4. 模拟1000条T=1，timepoint_num=252的 geometric brownian motion(风险中性测度漂移项)"
   ]
  },
  {
   "cell_type": "code",
   "execution_count": 4,
   "metadata": {},
   "outputs": [
    {
     "data": {
      "text/html": [
       "<div>\n",
       "<style scoped>\n",
       "    .dataframe tbody tr th:only-of-type {\n",
       "        vertical-align: middle;\n",
       "    }\n",
       "\n",
       "    .dataframe tbody tr th {\n",
       "        vertical-align: top;\n",
       "    }\n",
       "\n",
       "    .dataframe thead th {\n",
       "        text-align: right;\n",
       "    }\n",
       "</style>\n",
       "<table border=\"1\" class=\"dataframe\">\n",
       "  <thead>\n",
       "    <tr style=\"text-align: right;\">\n",
       "      <th></th>\n",
       "      <th>0</th>\n",
       "      <th>1</th>\n",
       "      <th>2</th>\n",
       "      <th>3</th>\n",
       "      <th>4</th>\n",
       "      <th>5</th>\n",
       "      <th>6</th>\n",
       "      <th>7</th>\n",
       "      <th>8</th>\n",
       "      <th>9</th>\n",
       "      <th>...</th>\n",
       "      <th>243</th>\n",
       "      <th>244</th>\n",
       "      <th>245</th>\n",
       "      <th>246</th>\n",
       "      <th>247</th>\n",
       "      <th>248</th>\n",
       "      <th>249</th>\n",
       "      <th>250</th>\n",
       "      <th>251</th>\n",
       "      <th>252</th>\n",
       "    </tr>\n",
       "  </thead>\n",
       "  <tbody>\n",
       "    <tr>\n",
       "      <th>count</th>\n",
       "      <td>1000.0</td>\n",
       "      <td>1000.000000</td>\n",
       "      <td>1000.000000</td>\n",
       "      <td>1000.000000</td>\n",
       "      <td>1000.000000</td>\n",
       "      <td>1000.000000</td>\n",
       "      <td>1000.000000</td>\n",
       "      <td>1000.000000</td>\n",
       "      <td>1000.000000</td>\n",
       "      <td>1000.000000</td>\n",
       "      <td>...</td>\n",
       "      <td>1000.000000</td>\n",
       "      <td>1000.000000</td>\n",
       "      <td>1000.000000</td>\n",
       "      <td>1000.000000</td>\n",
       "      <td>1000.000000</td>\n",
       "      <td>1000.000000</td>\n",
       "      <td>1000.000000</td>\n",
       "      <td>1000.000000</td>\n",
       "      <td>1000.000000</td>\n",
       "      <td>1000.000000</td>\n",
       "    </tr>\n",
       "    <tr>\n",
       "      <th>mean</th>\n",
       "      <td>1.0</td>\n",
       "      <td>1.000214</td>\n",
       "      <td>1.000349</td>\n",
       "      <td>1.000462</td>\n",
       "      <td>1.000874</td>\n",
       "      <td>1.001139</td>\n",
       "      <td>1.001812</td>\n",
       "      <td>1.002259</td>\n",
       "      <td>1.001787</td>\n",
       "      <td>1.002020</td>\n",
       "      <td>...</td>\n",
       "      <td>1.029580</td>\n",
       "      <td>1.029356</td>\n",
       "      <td>1.029021</td>\n",
       "      <td>1.028935</td>\n",
       "      <td>1.029294</td>\n",
       "      <td>1.029660</td>\n",
       "      <td>1.030114</td>\n",
       "      <td>1.030349</td>\n",
       "      <td>1.030711</td>\n",
       "      <td>1.030575</td>\n",
       "    </tr>\n",
       "    <tr>\n",
       "      <th>std</th>\n",
       "      <td>0.0</td>\n",
       "      <td>0.008468</td>\n",
       "      <td>0.012023</td>\n",
       "      <td>0.014376</td>\n",
       "      <td>0.016552</td>\n",
       "      <td>0.018587</td>\n",
       "      <td>0.019879</td>\n",
       "      <td>0.021871</td>\n",
       "      <td>0.023349</td>\n",
       "      <td>0.025182</td>\n",
       "      <td>...</td>\n",
       "      <td>0.133410</td>\n",
       "      <td>0.134068</td>\n",
       "      <td>0.134367</td>\n",
       "      <td>0.134457</td>\n",
       "      <td>0.133778</td>\n",
       "      <td>0.133593</td>\n",
       "      <td>0.134359</td>\n",
       "      <td>0.134285</td>\n",
       "      <td>0.134821</td>\n",
       "      <td>0.135232</td>\n",
       "    </tr>\n",
       "    <tr>\n",
       "      <th>min</th>\n",
       "      <td>1.0</td>\n",
       "      <td>0.971605</td>\n",
       "      <td>0.966097</td>\n",
       "      <td>0.952253</td>\n",
       "      <td>0.946607</td>\n",
       "      <td>0.946709</td>\n",
       "      <td>0.942036</td>\n",
       "      <td>0.936254</td>\n",
       "      <td>0.935586</td>\n",
       "      <td>0.936735</td>\n",
       "      <td>...</td>\n",
       "      <td>0.641353</td>\n",
       "      <td>0.633428</td>\n",
       "      <td>0.631141</td>\n",
       "      <td>0.629119</td>\n",
       "      <td>0.631000</td>\n",
       "      <td>0.637937</td>\n",
       "      <td>0.645683</td>\n",
       "      <td>0.647264</td>\n",
       "      <td>0.652299</td>\n",
       "      <td>0.645448</td>\n",
       "    </tr>\n",
       "    <tr>\n",
       "      <th>25%</th>\n",
       "      <td>1.0</td>\n",
       "      <td>0.994620</td>\n",
       "      <td>0.991831</td>\n",
       "      <td>0.991134</td>\n",
       "      <td>0.990047</td>\n",
       "      <td>0.989339</td>\n",
       "      <td>0.988401</td>\n",
       "      <td>0.987444</td>\n",
       "      <td>0.986297</td>\n",
       "      <td>0.985019</td>\n",
       "      <td>...</td>\n",
       "      <td>0.933779</td>\n",
       "      <td>0.931223</td>\n",
       "      <td>0.931762</td>\n",
       "      <td>0.931218</td>\n",
       "      <td>0.933118</td>\n",
       "      <td>0.932819</td>\n",
       "      <td>0.934166</td>\n",
       "      <td>0.933976</td>\n",
       "      <td>0.934255</td>\n",
       "      <td>0.933765</td>\n",
       "    </tr>\n",
       "    <tr>\n",
       "      <th>50%</th>\n",
       "      <td>1.0</td>\n",
       "      <td>1.000096</td>\n",
       "      <td>1.000350</td>\n",
       "      <td>1.000500</td>\n",
       "      <td>1.001122</td>\n",
       "      <td>1.001056</td>\n",
       "      <td>1.001748</td>\n",
       "      <td>1.001510</td>\n",
       "      <td>1.001193</td>\n",
       "      <td>1.000664</td>\n",
       "      <td>...</td>\n",
       "      <td>1.027382</td>\n",
       "      <td>1.025675</td>\n",
       "      <td>1.026416</td>\n",
       "      <td>1.027053</td>\n",
       "      <td>1.026932</td>\n",
       "      <td>1.026879</td>\n",
       "      <td>1.027702</td>\n",
       "      <td>1.028464</td>\n",
       "      <td>1.027638</td>\n",
       "      <td>1.028460</td>\n",
       "    </tr>\n",
       "    <tr>\n",
       "      <th>75%</th>\n",
       "      <td>1.0</td>\n",
       "      <td>1.005607</td>\n",
       "      <td>1.008515</td>\n",
       "      <td>1.009751</td>\n",
       "      <td>1.011753</td>\n",
       "      <td>1.014160</td>\n",
       "      <td>1.015367</td>\n",
       "      <td>1.017466</td>\n",
       "      <td>1.017839</td>\n",
       "      <td>1.018859</td>\n",
       "      <td>...</td>\n",
       "      <td>1.112909</td>\n",
       "      <td>1.116238</td>\n",
       "      <td>1.113204</td>\n",
       "      <td>1.111538</td>\n",
       "      <td>1.111003</td>\n",
       "      <td>1.111864</td>\n",
       "      <td>1.110107</td>\n",
       "      <td>1.111224</td>\n",
       "      <td>1.112661</td>\n",
       "      <td>1.111141</td>\n",
       "    </tr>\n",
       "    <tr>\n",
       "      <th>max</th>\n",
       "      <td>1.0</td>\n",
       "      <td>1.029680</td>\n",
       "      <td>1.039161</td>\n",
       "      <td>1.043452</td>\n",
       "      <td>1.049878</td>\n",
       "      <td>1.057156</td>\n",
       "      <td>1.057592</td>\n",
       "      <td>1.061718</td>\n",
       "      <td>1.071764</td>\n",
       "      <td>1.089840</td>\n",
       "      <td>...</td>\n",
       "      <td>1.610894</td>\n",
       "      <td>1.623366</td>\n",
       "      <td>1.645452</td>\n",
       "      <td>1.632993</td>\n",
       "      <td>1.625629</td>\n",
       "      <td>1.614976</td>\n",
       "      <td>1.628026</td>\n",
       "      <td>1.629132</td>\n",
       "      <td>1.628133</td>\n",
       "      <td>1.614455</td>\n",
       "    </tr>\n",
       "  </tbody>\n",
       "</table>\n",
       "<p>8 rows × 253 columns</p>\n",
       "</div>"
      ],
      "text/plain": [
       "          0            1            2            3            4    \\\n",
       "count  1000.0  1000.000000  1000.000000  1000.000000  1000.000000   \n",
       "mean      1.0     1.000214     1.000349     1.000462     1.000874   \n",
       "std       0.0     0.008468     0.012023     0.014376     0.016552   \n",
       "min       1.0     0.971605     0.966097     0.952253     0.946607   \n",
       "25%       1.0     0.994620     0.991831     0.991134     0.990047   \n",
       "50%       1.0     1.000096     1.000350     1.000500     1.001122   \n",
       "75%       1.0     1.005607     1.008515     1.009751     1.011753   \n",
       "max       1.0     1.029680     1.039161     1.043452     1.049878   \n",
       "\n",
       "               5            6            7            8            9    ...  \\\n",
       "count  1000.000000  1000.000000  1000.000000  1000.000000  1000.000000  ...   \n",
       "mean      1.001139     1.001812     1.002259     1.001787     1.002020  ...   \n",
       "std       0.018587     0.019879     0.021871     0.023349     0.025182  ...   \n",
       "min       0.946709     0.942036     0.936254     0.935586     0.936735  ...   \n",
       "25%       0.989339     0.988401     0.987444     0.986297     0.985019  ...   \n",
       "50%       1.001056     1.001748     1.001510     1.001193     1.000664  ...   \n",
       "75%       1.014160     1.015367     1.017466     1.017839     1.018859  ...   \n",
       "max       1.057156     1.057592     1.061718     1.071764     1.089840  ...   \n",
       "\n",
       "               243          244          245          246          247  \\\n",
       "count  1000.000000  1000.000000  1000.000000  1000.000000  1000.000000   \n",
       "mean      1.029580     1.029356     1.029021     1.028935     1.029294   \n",
       "std       0.133410     0.134068     0.134367     0.134457     0.133778   \n",
       "min       0.641353     0.633428     0.631141     0.629119     0.631000   \n",
       "25%       0.933779     0.931223     0.931762     0.931218     0.933118   \n",
       "50%       1.027382     1.025675     1.026416     1.027053     1.026932   \n",
       "75%       1.112909     1.116238     1.113204     1.111538     1.111003   \n",
       "max       1.610894     1.623366     1.645452     1.632993     1.625629   \n",
       "\n",
       "               248          249          250          251          252  \n",
       "count  1000.000000  1000.000000  1000.000000  1000.000000  1000.000000  \n",
       "mean      1.029660     1.030114     1.030349     1.030711     1.030575  \n",
       "std       0.133593     0.134359     0.134285     0.134821     0.135232  \n",
       "min       0.637937     0.645683     0.647264     0.652299     0.645448  \n",
       "25%       0.932819     0.934166     0.933976     0.934255     0.933765  \n",
       "50%       1.026879     1.027702     1.028464     1.027638     1.028460  \n",
       "75%       1.111864     1.110107     1.111224     1.112661     1.111141  \n",
       "max       1.614976     1.628026     1.629132     1.628133     1.614455  \n",
       "\n",
       "[8 rows x 253 columns]"
      ]
     },
     "execution_count": 4,
     "metadata": {},
     "output_type": "execute_result"
    },
    {
     "data": {
      "image/png": "[encoded data removed]",
      "text/plain": [
       "<Figure size 432x288 with 1 Axes>"
      ]
     },
     "metadata": {
      "needs_background": "light"
     },
     "output_type": "display_data"
    },
    {
     "data": {
      "image/png": "[encoded data removed]",
      "text/plain": [
       "<Figure size 432x288 with 1 Axes>"
      ]
     },
     "metadata": {
      "needs_background": "light"
     },
     "output_type": "display_data"
    }
   ],
   "source": [
    "import simu_func as sifu\n",
    "r=0.03\n",
    "sigma=0.13\n",
    "trajectory_num=1000\n",
    "T=1\n",
    "timepoint_num=252\n",
    "bm1=sifu.geometric_brownian_motion('gbm1',T,timepoint_num,trajectory_num,drift=r-0.5*(sigma**2),diffusion=sigma,start_value=1)\n",
    "bm1_process_matrix=bm1.process_matrix\n",
    "# 绘制bm1所有序列\n",
    "bm1.trajactory_fig(which_traj='all')\n",
    "# 绘制bm1第0条序列\n",
    "bm1.trajactory_fig(which_traj=0)\n",
    "bm_data=bm1_process_matrix.T\n",
    "import pandas as pd\n",
    "bm_data_DF=pd.DataFrame(bm_data)\n",
    "bm_data_DF.describe()"
   ]
  },
  {
   "cell_type": "code",
   "execution_count": 3,
   "metadata": {},
   "outputs": [
    {
     "data": {
      "text/html": [
       "<div>\n",
       "<style scoped>\n",
       "    .dataframe tbody tr th:only-of-type {\n",
       "        vertical-align: middle;\n",
       "    }\n",
       "\n",
       "    .dataframe tbody tr th {\n",
       "        vertical-align: top;\n",
       "    }\n",
       "\n",
       "    .dataframe thead th {\n",
       "        text-align: right;\n",
       "    }\n",
       "</style>\n",
       "<table border=\"1\" class=\"dataframe\">\n",
       "  <thead>\n",
       "    <tr style=\"text-align: right;\">\n",
       "      <th></th>\n",
       "      <th>0</th>\n",
       "      <th>1</th>\n",
       "      <th>2</th>\n",
       "      <th>3</th>\n",
       "      <th>4</th>\n",
       "      <th>5</th>\n",
       "      <th>6</th>\n",
       "      <th>7</th>\n",
       "      <th>8</th>\n",
       "      <th>9</th>\n",
       "      <th>...</th>\n",
       "      <th>243</th>\n",
       "      <th>244</th>\n",
       "      <th>245</th>\n",
       "      <th>246</th>\n",
       "      <th>247</th>\n",
       "      <th>248</th>\n",
       "      <th>249</th>\n",
       "      <th>250</th>\n",
       "      <th>251</th>\n",
       "      <th>252</th>\n",
       "    </tr>\n",
       "  </thead>\n",
       "  <tbody>\n",
       "    <tr>\n",
       "      <th>count</th>\n",
       "      <td>1000.0</td>\n",
       "      <td>1.000000e+03</td>\n",
       "      <td>1.000000e+03</td>\n",
       "      <td>1.000000e+03</td>\n",
       "      <td>1.000000e+03</td>\n",
       "      <td>1.000000e+03</td>\n",
       "      <td>1.000000e+03</td>\n",
       "      <td>1.000000e+03</td>\n",
       "      <td>1.000000e+03</td>\n",
       "      <td>1.000000e+03</td>\n",
       "      <td>...</td>\n",
       "      <td>1.000000e+03</td>\n",
       "      <td>1.000000e+03</td>\n",
       "      <td>1.000000e+03</td>\n",
       "      <td>1.000000e+03</td>\n",
       "      <td>1.000000e+03</td>\n",
       "      <td>1.000000e+03</td>\n",
       "      <td>1.000000e+03</td>\n",
       "      <td>1.000000e+03</td>\n",
       "      <td>1.000000e+03</td>\n",
       "      <td>1.000000e+03</td>\n",
       "    </tr>\n",
       "    <tr>\n",
       "      <th>mean</th>\n",
       "      <td>0.0</td>\n",
       "      <td>3.968254e-03</td>\n",
       "      <td>7.936508e-03</td>\n",
       "      <td>1.190476e-02</td>\n",
       "      <td>1.587302e-02</td>\n",
       "      <td>1.984127e-02</td>\n",
       "      <td>2.380952e-02</td>\n",
       "      <td>2.777778e-02</td>\n",
       "      <td>3.174603e-02</td>\n",
       "      <td>3.571429e-02</td>\n",
       "      <td>...</td>\n",
       "      <td>9.642857e-01</td>\n",
       "      <td>9.682540e-01</td>\n",
       "      <td>9.722222e-01</td>\n",
       "      <td>9.761905e-01</td>\n",
       "      <td>9.801587e-01</td>\n",
       "      <td>9.841270e-01</td>\n",
       "      <td>9.880952e-01</td>\n",
       "      <td>9.920635e-01</td>\n",
       "      <td>9.960317e-01</td>\n",
       "      <td>1.000000e+00</td>\n",
       "    </tr>\n",
       "    <tr>\n",
       "      <th>std</th>\n",
       "      <td>0.0</td>\n",
       "      <td>3.210844e-17</td>\n",
       "      <td>4.338979e-17</td>\n",
       "      <td>1.961218e-16</td>\n",
       "      <td>1.735591e-17</td>\n",
       "      <td>4.165420e-17</td>\n",
       "      <td>4.373691e-16</td>\n",
       "      <td>5.692740e-16</td>\n",
       "      <td>2.082710e-17</td>\n",
       "      <td>4.651385e-16</td>\n",
       "      <td>...</td>\n",
       "      <td>1.721707e-14</td>\n",
       "      <td>8.664073e-15</td>\n",
       "      <td>1.910539e-14</td>\n",
       "      <td>6.886827e-15</td>\n",
       "      <td>2.099371e-14</td>\n",
       "      <td>6.220360e-15</td>\n",
       "      <td>2.210449e-14</td>\n",
       "      <td>4.443114e-15</td>\n",
       "      <td>2.399282e-14</td>\n",
       "      <td>2.999102e-15</td>\n",
       "    </tr>\n",
       "    <tr>\n",
       "      <th>min</th>\n",
       "      <td>0.0</td>\n",
       "      <td>3.968254e-03</td>\n",
       "      <td>7.936508e-03</td>\n",
       "      <td>1.190476e-02</td>\n",
       "      <td>1.587302e-02</td>\n",
       "      <td>1.984127e-02</td>\n",
       "      <td>2.380952e-02</td>\n",
       "      <td>2.777778e-02</td>\n",
       "      <td>3.174603e-02</td>\n",
       "      <td>3.571429e-02</td>\n",
       "      <td>...</td>\n",
       "      <td>9.642857e-01</td>\n",
       "      <td>9.682540e-01</td>\n",
       "      <td>9.722222e-01</td>\n",
       "      <td>9.761905e-01</td>\n",
       "      <td>9.801587e-01</td>\n",
       "      <td>9.841270e-01</td>\n",
       "      <td>9.880952e-01</td>\n",
       "      <td>9.920635e-01</td>\n",
       "      <td>9.960317e-01</td>\n",
       "      <td>1.000000e+00</td>\n",
       "    </tr>\n",
       "    <tr>\n",
       "      <th>25%</th>\n",
       "      <td>0.0</td>\n",
       "      <td>3.968254e-03</td>\n",
       "      <td>7.936508e-03</td>\n",
       "      <td>1.190476e-02</td>\n",
       "      <td>1.587302e-02</td>\n",
       "      <td>1.984127e-02</td>\n",
       "      <td>2.380952e-02</td>\n",
       "      <td>2.777778e-02</td>\n",
       "      <td>3.174603e-02</td>\n",
       "      <td>3.571429e-02</td>\n",
       "      <td>...</td>\n",
       "      <td>9.642857e-01</td>\n",
       "      <td>9.682540e-01</td>\n",
       "      <td>9.722222e-01</td>\n",
       "      <td>9.761905e-01</td>\n",
       "      <td>9.801587e-01</td>\n",
       "      <td>9.841270e-01</td>\n",
       "      <td>9.880952e-01</td>\n",
       "      <td>9.920635e-01</td>\n",
       "      <td>9.960317e-01</td>\n",
       "      <td>1.000000e+00</td>\n",
       "    </tr>\n",
       "    <tr>\n",
       "      <th>50%</th>\n",
       "      <td>0.0</td>\n",
       "      <td>3.968254e-03</td>\n",
       "      <td>7.936508e-03</td>\n",
       "      <td>1.190476e-02</td>\n",
       "      <td>1.587302e-02</td>\n",
       "      <td>1.984127e-02</td>\n",
       "      <td>2.380952e-02</td>\n",
       "      <td>2.777778e-02</td>\n",
       "      <td>3.174603e-02</td>\n",
       "      <td>3.571429e-02</td>\n",
       "      <td>...</td>\n",
       "      <td>9.642857e-01</td>\n",
       "      <td>9.682540e-01</td>\n",
       "      <td>9.722222e-01</td>\n",
       "      <td>9.761905e-01</td>\n",
       "      <td>9.801587e-01</td>\n",
       "      <td>9.841270e-01</td>\n",
       "      <td>9.880952e-01</td>\n",
       "      <td>9.920635e-01</td>\n",
       "      <td>9.960317e-01</td>\n",
       "      <td>1.000000e+00</td>\n",
       "    </tr>\n",
       "    <tr>\n",
       "      <th>75%</th>\n",
       "      <td>0.0</td>\n",
       "      <td>3.968254e-03</td>\n",
       "      <td>7.936508e-03</td>\n",
       "      <td>1.190476e-02</td>\n",
       "      <td>1.587302e-02</td>\n",
       "      <td>1.984127e-02</td>\n",
       "      <td>2.380952e-02</td>\n",
       "      <td>2.777778e-02</td>\n",
       "      <td>3.174603e-02</td>\n",
       "      <td>3.571429e-02</td>\n",
       "      <td>...</td>\n",
       "      <td>9.642857e-01</td>\n",
       "      <td>9.682540e-01</td>\n",
       "      <td>9.722222e-01</td>\n",
       "      <td>9.761905e-01</td>\n",
       "      <td>9.801587e-01</td>\n",
       "      <td>9.841270e-01</td>\n",
       "      <td>9.880952e-01</td>\n",
       "      <td>9.920635e-01</td>\n",
       "      <td>9.960317e-01</td>\n",
       "      <td>1.000000e+00</td>\n",
       "    </tr>\n",
       "    <tr>\n",
       "      <th>max</th>\n",
       "      <td>0.0</td>\n",
       "      <td>3.968254e-03</td>\n",
       "      <td>7.936508e-03</td>\n",
       "      <td>1.190476e-02</td>\n",
       "      <td>1.587302e-02</td>\n",
       "      <td>1.984127e-02</td>\n",
       "      <td>2.380952e-02</td>\n",
       "      <td>2.777778e-02</td>\n",
       "      <td>3.174603e-02</td>\n",
       "      <td>3.571429e-02</td>\n",
       "      <td>...</td>\n",
       "      <td>9.642857e-01</td>\n",
       "      <td>9.682540e-01</td>\n",
       "      <td>9.722222e-01</td>\n",
       "      <td>9.761905e-01</td>\n",
       "      <td>9.801587e-01</td>\n",
       "      <td>9.841270e-01</td>\n",
       "      <td>9.880952e-01</td>\n",
       "      <td>9.920635e-01</td>\n",
       "      <td>9.960317e-01</td>\n",
       "      <td>1.000000e+00</td>\n",
       "    </tr>\n",
       "  </tbody>\n",
       "</table>\n",
       "<p>8 rows × 253 columns</p>\n",
       "</div>"
      ],
      "text/plain": [
       "          0             1             2             3             4    \\\n",
       "count  1000.0  1.000000e+03  1.000000e+03  1.000000e+03  1.000000e+03   \n",
       "mean      0.0  3.968254e-03  7.936508e-03  1.190476e-02  1.587302e-02   \n",
       "std       0.0  3.210844e-17  4.338979e-17  1.961218e-16  1.735591e-17   \n",
       "min       0.0  3.968254e-03  7.936508e-03  1.190476e-02  1.587302e-02   \n",
       "25%       0.0  3.968254e-03  7.936508e-03  1.190476e-02  1.587302e-02   \n",
       "50%       0.0  3.968254e-03  7.936508e-03  1.190476e-02  1.587302e-02   \n",
       "75%       0.0  3.968254e-03  7.936508e-03  1.190476e-02  1.587302e-02   \n",
       "max       0.0  3.968254e-03  7.936508e-03  1.190476e-02  1.587302e-02   \n",
       "\n",
       "                5             6             7             8             9    \\\n",
       "count  1.000000e+03  1.000000e+03  1.000000e+03  1.000000e+03  1.000000e+03   \n",
       "mean   1.984127e-02  2.380952e-02  2.777778e-02  3.174603e-02  3.571429e-02   \n",
       "std    4.165420e-17  4.373691e-16  5.692740e-16  2.082710e-17  4.651385e-16   \n",
       "min    1.984127e-02  2.380952e-02  2.777778e-02  3.174603e-02  3.571429e-02   \n",
       "25%    1.984127e-02  2.380952e-02  2.777778e-02  3.174603e-02  3.571429e-02   \n",
       "50%    1.984127e-02  2.380952e-02  2.777778e-02  3.174603e-02  3.571429e-02   \n",
       "75%    1.984127e-02  2.380952e-02  2.777778e-02  3.174603e-02  3.571429e-02   \n",
       "max    1.984127e-02  2.380952e-02  2.777778e-02  3.174603e-02  3.571429e-02   \n",
       "\n",
       "       ...           243           244           245           246  \\\n",
       "count  ...  1.000000e+03  1.000000e+03  1.000000e+03  1.000000e+03   \n",
       "mean   ...  9.642857e-01  9.682540e-01  9.722222e-01  9.761905e-01   \n",
       "std    ...  1.721707e-14  8.664073e-15  1.910539e-14  6.886827e-15   \n",
       "min    ...  9.642857e-01  9.682540e-01  9.722222e-01  9.761905e-01   \n",
       "25%    ...  9.642857e-01  9.682540e-01  9.722222e-01  9.761905e-01   \n",
       "50%    ...  9.642857e-01  9.682540e-01  9.722222e-01  9.761905e-01   \n",
       "75%    ...  9.642857e-01  9.682540e-01  9.722222e-01  9.761905e-01   \n",
       "max    ...  9.642857e-01  9.682540e-01  9.722222e-01  9.761905e-01   \n",
       "\n",
       "                247           248           249           250           251  \\\n",
       "count  1.000000e+03  1.000000e+03  1.000000e+03  1.000000e+03  1.000000e+03   \n",
       "mean   9.801587e-01  9.841270e-01  9.880952e-01  9.920635e-01  9.960317e-01   \n",
       "std    2.099371e-14  6.220360e-15  2.210449e-14  4.443114e-15  2.399282e-14   \n",
       "min    9.801587e-01  9.841270e-01  9.880952e-01  9.920635e-01  9.960317e-01   \n",
       "25%    9.801587e-01  9.841270e-01  9.880952e-01  9.920635e-01  9.960317e-01   \n",
       "50%    9.801587e-01  9.841270e-01  9.880952e-01  9.920635e-01  9.960317e-01   \n",
       "75%    9.801587e-01  9.841270e-01  9.880952e-01  9.920635e-01  9.960317e-01   \n",
       "max    9.801587e-01  9.841270e-01  9.880952e-01  9.920635e-01  9.960317e-01   \n",
       "\n",
       "                252  \n",
       "count  1.000000e+03  \n",
       "mean   1.000000e+00  \n",
       "std    2.999102e-15  \n",
       "min    1.000000e+00  \n",
       "25%    1.000000e+00  \n",
       "50%    1.000000e+00  \n",
       "75%    1.000000e+00  \n",
       "max    1.000000e+00  \n",
       "\n",
       "[8 rows x 253 columns]"
      ]
     },
     "execution_count": 3,
     "metadata": {},
     "output_type": "execute_result"
    }
   ],
   "source": [
    "import numpy as np\n",
    "np.log(bm_data_DF).describe()"
   ]
  },
  {
   "cell_type": "markdown",
   "metadata": {},
   "source": [
    "### Script 5. 模拟1年（12期）股票价格二叉树"
   ]
  },
  {
   "cell_type": "code",
   "execution_count": null,
   "metadata": {},
   "outputs": [],
   "source": [
    "import simu_func as sifu\n",
    "btree1=sifu.binary_tree('btree1',1,12,(100,1.1,0.9,0.5))\n",
    "btree1_matrix=btree1.tree_matrix"
   ]
  },
  {
   "cell_type": "markdown",
   "metadata": {},
   "source": [
    "### Script 6. 雪球MC定价"
   ]
  },
  {
   "cell_type": "code",
   "execution_count": null,
   "metadata": {},
   "outputs": [],
   "source": [
    "import deriv_func as defu\n",
    "import numpy as np\n",
    "S0,K,KI,KO,T,coupon,r,sigma=1,1,0.85,1.03,1,0.2,0.03,0.13\n",
    "# S0,K,KI,KO,T,coupon,r,sigma=1,1,1.1,100,1,0.2,0.03,0.13\n",
    "payoff_discount_list,situation_list=defu.mc_snowball_option_pricing(S0,K,KI,KO,T,coupon,r,sigma)\n",
    "print(np.mean(payoff_discount_list))"
   ]
  },
  {
   "cell_type": "markdown",
   "metadata": {},
   "source": [
    "### Script 7. 欧式期权有限差分-显式、有限差分-隐式、有限差分-CrankNicholson"
   ]
  },
  {
   "cell_type": "code",
   "execution_count": 6,
   "metadata": {},
   "outputs": [
    {
     "name": "stdout",
     "output_type": "stream",
     "text": [
      "european_option_price_df\n",
      "       price_bs  price_ex  price_im  princ_cn\n",
      "call  6.116788  6.076571  6.105889  6.113063\n",
      "put   4.076101  4.040036  4.068740  4.075182\n"
     ]
    }
   ],
   "source": [
    "import deriv_func as defu\n",
    "import pandas as pd\n",
    "days=90\n",
    "# S0,K,T,sigma,r = 100, 105, days/365, 0.2, 0.02\n",
    "S0,K,T,sigma,r=50,50,0.4167,0.40,0.10\n",
    "q0=0.0\n",
    "price_c_ex,value_mat_c_ex,coef_backward_mat_c_ex=defu.fd_european_option_pricing(S0,K,T,sigma,r,type='call',fdtype='explicit',q=q0,timepoint_num=10,pricepoint_num=20)\n",
    "price_c_im,value_mat_c_im,coef_backward_mat_c_im=defu.fd_european_option_pricing(S0,K,T,sigma,r,type='call',fdtype='implicit',q=q0,timepoint_num=100,pricepoint_num=200)\n",
    "price_c_cn,value_mat_c_cn,coef_backward_mat_c_cn=defu.fd_european_option_pricing(S0,K,T,sigma,r,type='call',fdtype='crank_nicholson',q=q0,timepoint_num=100,pricepoint_num=200)\n",
    "price_p_ex,value_mat_p_ex,coef_backward_mat_p_ex=defu.fd_european_option_pricing(S0,K,T,sigma,r,type='put',fdtype='explicit',q=q0,timepoint_num=10,pricepoint_num=20)\n",
    "price_p_im,value_mat_p_im,coef_backward_mat_p_im=defu.fd_european_option_pricing(S0,K,T,sigma,r,type='put',fdtype='implicit',q=q0,timepoint_num=100,pricepoint_num=200)\n",
    "price_p_cn,value_mat_p_cn,coef_backward_mat_p_cn=defu.fd_european_option_pricing(S0,K,T,sigma,r,type='put',fdtype='crank_nicholson',q=q0,timepoint_num=100,pricepoint_num=200)\n",
    "price_c_bs=defu.bs_european_option_pricing(S0,K,T,sigma,r,type='call',q=q0)\n",
    "price_p_bs=defu.bs_european_option_pricing(S0,K,T,sigma,r,type='put',q=q0)\n",
    "# output: DataFrame\n",
    "european_option_price_df=pd.DataFrame({'price_bs':[price_c_bs,price_p_bs],\n",
    "                                       'price_ex':[price_c_ex,price_p_ex],\n",
    "                                       'price_im':[price_c_im,price_p_im],\n",
    "                                       'princ_cn':[price_c_cn,price_p_cn]},index=['call','put'])\n",
    "print('european_option_price_df\\n',european_option_price_df)"
   ]
  },
  {
   "cell_type": "markdown",
   "metadata": {},
   "source": [
    "### Script 8. 美式期权有限差分-显式，有限差分-隐式，有限差分-CrankNicholson"
   ]
  },
  {
   "cell_type": "code",
   "execution_count": 5,
   "metadata": {},
   "outputs": [
    {
     "name": "stdout",
     "output_type": "stream",
     "text": [
      "american_option_price_df\n",
      "       price_bs  price_ex  price_im  princ_cn\n",
      "call  6.116788  6.076571  6.105889  6.113063\n",
      "put   4.076101  4.256947  4.269945  4.280898\n"
     ]
    }
   ],
   "source": [
    "import deriv_func as defu\n",
    "import pandas as pd\n",
    "days=90\n",
    "# S0,K,T,sigma,r = 100, 105, days/365, 0.2, 0.02\n",
    "S0,K,T,sigma,r=50,50,0.4167,0.40,0.10\n",
    "q0=0.0\n",
    "price_c_ex,value_mat_c_ex,coef_backward_mat_c_ex=defu.fd_american_option_pricing(S0,K,T,sigma,r,type='call',fdtype='explicit',q=q0,timepoint_num=10,pricepoint_num=20)\n",
    "price_c_im,value_mat_c_im,coef_backward_mat_c_im=defu.fd_american_option_pricing(S0,K,T,sigma,r,type='call',fdtype='implicit',q=q0,timepoint_num=100,pricepoint_num=200)\n",
    "price_c_cn,value_mat_c_cn,coef_backward_mat_c_cn=defu.fd_american_option_pricing(S0,K,T,sigma,r,type='call',fdtype='crank_nicholson',q=q0,timepoint_num=100,pricepoint_num=200)\n",
    "price_p_ex,value_mat_p_ex,coef_backward_mat_p_ex=defu.fd_american_option_pricing(S0,K,T,sigma,r,type='put',fdtype='explicit',q=q0,timepoint_num=10,pricepoint_num=20)\n",
    "price_p_im,value_mat_p_im,coef_backward_mat_p_im=defu.fd_american_option_pricing(S0,K,T,sigma,r,type='put',fdtype='implicit',q=q0,timepoint_num=100,pricepoint_num=200)\n",
    "price_p_cn,value_mat_p_cn,coef_backward_mat_p_cn=defu.fd_american_option_pricing(S0,K,T,sigma,r,type='put',fdtype='crank_nicholson',q=q0,timepoint_num=100,pricepoint_num=200)\n",
    "# 解析解（BAW）还未完成，目前用欧式期权BS解代替\n",
    "price_c_bs=defu.bs_european_option_pricing(S0,K,T,sigma,r,type='call',q=q0)\n",
    "price_p_bs=defu.bs_european_option_pricing(S0,K,T,sigma,r,type='put',q=q0)\n",
    "# output: DataFrame\n",
    "american_option_price_df=pd.DataFrame({'price_bs':[price_c_bs,price_p_bs],\n",
    "                                       'price_ex':[price_c_ex,price_p_ex],\n",
    "                                       'price_im':[price_c_im,price_p_im],\n",
    "                                       'princ_cn':[price_c_cn,price_p_cn]},index=['call','put'])\n",
    "print('american_option_price_df\\n',american_option_price_df)"
   ]
  },
  {
   "cell_type": "markdown",
   "metadata": {},
   "source": [
    "### Script 9. 雪球产品PDE（隐式）定价与希腊字母"
   ]
  },
  {
   "cell_type": "code",
   "execution_count": 2,
   "metadata": {},
   "outputs": [
    {
     "name": "stdout",
     "output_type": "stream",
     "text": [
      "price= 0.06272837861239222\n"
     ]
    }
   ],
   "source": [
    "import deriv_func as defu\n",
    "# parameter group 1(report)\n",
    "S0,K,KI,KO,T,coupon,r,sigma,q0=1,1,0.85,1.03,1,0.2,0.03,0.13,0.0\n",
    "price,value_mat_tuple= defu.df_snowball_option_pricing(S0,K,KI,KO,T,coupon,r,sigma,t_start=20/252,q=q0,pricepoint_num=100)\n",
    "value_mat=value_mat_tuple[0]\n",
    "print('price=',price)"
   ]
  },
  {
   "cell_type": "code",
   "execution_count": 3,
   "metadata": {},
   "outputs": [
    {
     "name": "stderr",
     "output_type": "stream",
     "text": [
      "100%|██████████| 101/101 [00:26<00:00,  3.75it/s]\n"
     ]
    }
   ],
   "source": [
    "import deriv_func as defu\n",
    "import numpy as np\n",
    "import pandas as pd\n",
    "import matplotlib.pyplot as plt\n",
    "from tqdm import tqdm\n",
    "S0,K,KI,KO,T,coupon,r,sigma,q0=1,1,0.85,1.03,1,0.2,0.03,0.13,0.0\n",
    "greeks_mat=[]\n",
    "for S0 in tqdm(np.linspace(0.5,1.5,101)):\n",
    "  delta, gamma, vega, theta, rho, pv= defu.df_snowball_option_greeks(S0,K,KI,KO,T,coupon,r,sigma,t_start=0/252,q=q0,pricepoint_num=500)\n",
    "  greeks_mat.append([delta,gamma,vega,theta,rho,pv])\n",
    "greeks_DF=pd.DataFrame(greeks_mat,columns=['delta','gamma','vega','theta','rho','pv'],index=np.linspace(0.5,1.5,101))\n",
    "# fig,axes =plt.subplots(nrows=2,ncols=3)\n",
    "# fig.dpi=150\n",
    "# greeks_DF['delta'].plot(title='delta',ax=axes[0,0])\n",
    "# greeks_DF['gamma'].plot(title='gamma',ax=axes[0,1])\n",
    "# greeks_DF['vega'].plot(title='vega',ax=axes[0,2])\n",
    "# greeks_DF['theta'].plot(title='theta',ax=axes[1,0])\n",
    "# greeks_DF['rho'].plot(title='rho',ax=axes[1,1])\n",
    "# greeks_DF['pv'].plot(title='pv',ax=axes[1,1])\n",
    "# plt.tight_layout()"
   ]
  },
  {
   "cell_type": "code",
   "execution_count": 4,
   "metadata": {},
   "outputs": [
    {
     "data": {
      "application/vnd.plotly.v1+json": {
       "config": {
        "plotlyServerURL": "https://plot.ly"
       },
       "data": [
        {
         "mode": "lines",
         "name": "delta",
         "type": "scatter",
         "x": [
          0.5,
          0.51,
          0.52,
          0.53,
          0.54,
          0.55,
          0.56,
          0.5700000000000001,
          0.58,
          0.59,
          0.6,
          0.61,
          0.62,
          0.63,
          0.64,
          0.65,
          0.66,
          0.67,
          0.6799999999999999,
          0.69,
          0.7,
          0.71,
          0.72,
          0.73,
          0.74,
          0.75,
          0.76,
          0.77,
          0.78,
          0.79,
          0.8,
          0.81,
          0.8200000000000001,
          0.8300000000000001,
          0.8400000000000001,
          0.8500000000000001,
          0.86,
          0.87,
          0.88,
          0.89,
          0.9,
          0.91,
          0.9199999999999999,
          0.9299999999999999,
          0.94,
          0.95,
          0.96,
          0.97,
          0.98,
          0.99,
          1,
          1.01,
          1.02,
          1.03,
          1.04,
          1.05,
          1.06,
          1.07,
          1.08,
          1.0899999999999999,
          1.1,
          1.1099999999999999,
          1.12,
          1.13,
          1.1400000000000001,
          1.15,
          1.1600000000000001,
          1.17,
          1.1800000000000002,
          1.19,
          1.2000000000000002,
          1.21,
          1.22,
          1.23,
          1.24,
          1.25,
          1.26,
          1.27,
          1.28,
          1.29,
          1.3,
          1.31,
          1.32,
          1.33,
          1.3399999999999999,
          1.35,
          1.3599999999999999,
          1.37,
          1.38,
          1.3900000000000001,
          1.4,
          1.4100000000000001,
          1.42,
          1.4300000000000002,
          1.44,
          1.4500000000000002,
          1.46,
          1.47,
          1.48,
          1.49,
          1.5
         ],
         "xaxis": "x",
         "y": [
          1.0000005829220615,
          1.0000012349949208,
          1.0000025305151101,
          1.0000050218319962,
          1.0000096646024084,
          1.0000180603087796,
          1.0000328083132426,
          1.0000580027216235,
          1.000099899563765,
          1.0001677883376616,
          1.0002750681532928,
          1.0004405358257775,
          1.0006898240293922,
          1.001056934562706,
          1.0015857088436444,
          1.002331088867603,
          1.0033599104525197,
          1.0047509928004972,
          1.006594214222191,
          1.0089883073440984,
          1.0120371128118606,
          1.015844112138099,
          1.0205051482757326,
          1.0260993909482767,
          1.0326787066805978,
          1.0402558500527792,
          1.0487918833500967,
          1.0581836794445911,
          1.0682524496459405,
          1.078737703233196,
          1.0893232651011264,
          1.0998955629082716,
          1.1125191337587244,
          1.1456405096183573,
          1.3428036692647374,
          1.907896670038876,
          2.100803050814265,
          1.9960180886282604,
          1.8708202722437768,
          1.7252177434143336,
          1.5628413447111094,
          1.3869686151701008,
          1.2006004454361128,
          1.0064137292884612,
          0.8067947784371036,
          0.6040528378637525,
          0.40090968940079474,
          0.20127139205404873,
          0.011064379002307188,
          -0.16134606908866875,
          -0.30576563924366756,
          -0.4121180813103512,
          -0.4733331578405868,
          -0.4880268547443358,
          -0.46160445474295553,
          -0.4051148592367207,
          -0.33230165265467637,
          -0.25618673654388335,
          -0.18653068980306164,
          -0.1288406493409705,
          -0.08478173426561436,
          -0.05336386767827139,
          -0.03225103401918095,
          -0.018782248630966975,
          -0.010575784352385485,
          -0.005775378558853329,
          -0.003067589223424548,
          -0.0015888788677428138,
          -0.0008044800501733355,
          -0.0003990277685124421,
          -0.00019428576495909608,
          -0.00009302355049035112,
          -0.000043873547976700045,
          -0.000020412497794413102,
          -0.000009381984492191461,
          -0.000004264956440236389,
          -0.000001919869044799004,
          -8.566393415651202e-7,
          -3.792424784854285e-7,
          -1.6672399840986855e-7,
          -7.284220128787557e-8,
          -3.165157637152325e-8,
          -1.3686901333468424e-8,
          -5.893888786588944e-9,
          -2.528681943562962e-9,
          -1.0815475315751188e-9,
          -4.6133210609487856e-10,
          -1.9635651579960305e-10,
          -8.342272625512494e-11,
          -3.540932535193867e-11,
          -1.5050708695214205e-11,
          -6.485651259545628e-12,
          -3.009623067194692e-12,
          -1.8883010928010473e-12,
          -2.2069537555482713e-12,
          -4.123377884345974e-12,
          -8.884279347206425e-12,
          -1.9556824036243565e-11,
          -4.282270390389855e-11,
          -9.279524855456256e-11,
          -1.9880312673858924e-10
         ],
         "yaxis": "y"
        },
        {
         "mode": "lines",
         "name": "gamma",
         "type": "scatter",
         "x": [
          0.5,
          0.51,
          0.52,
          0.53,
          0.54,
          0.55,
          0.56,
          0.5700000000000001,
          0.58,
          0.59,
          0.6,
          0.61,
          0.62,
          0.63,
          0.64,
          0.65,
          0.66,
          0.67,
          0.6799999999999999,
          0.69,
          0.7,
          0.71,
          0.72,
          0.73,
          0.74,
          0.75,
          0.76,
          0.77,
          0.78,
          0.79,
          0.8,
          0.81,
          0.8200000000000001,
          0.8300000000000001,
          0.8400000000000001,
          0.8500000000000001,
          0.86,
          0.87,
          0.88,
          0.89,
          0.9,
          0.91,
          0.9199999999999999,
          0.9299999999999999,
          0.94,
          0.95,
          0.96,
          0.97,
          0.98,
          0.99,
          1,
          1.01,
          1.02,
          1.03,
          1.04,
          1.05,
          1.06,
          1.07,
          1.08,
          1.0899999999999999,
          1.1,
          1.1099999999999999,
          1.12,
          1.13,
          1.1400000000000001,
          1.15,
          1.1600000000000001,
          1.17,
          1.1800000000000002,
          1.19,
          1.2000000000000002,
          1.21,
          1.22,
          1.23,
          1.24,
          1.25,
          1.26,
          1.27,
          1.28,
          1.29,
          1.3,
          1.31,
          1.32,
          1.33,
          1.3399999999999999,
          1.35,
          1.3599999999999999,
          1.37,
          1.38,
          1.3900000000000001,
          1.4,
          1.4100000000000001,
          1.42,
          1.4300000000000002,
          1.44,
          1.4500000000000002,
          1.46,
          1.47,
          1.48,
          1.49,
          1.5
         ],
         "xaxis": "x2",
         "y": [
          0.00004425653621353831,
          0.00008967652542200731,
          0.00017562703428316472,
          0.00033324045236009323,
          0.0006127642784280491,
          0.001094300943707893,
          0.0018983815830261248,
          0.003205192580003979,
          0.005268005733712695,
          0.008442236344705811,
          0.013194648737810708,
          0.020139248174702966,
          0.030027379871501857,
          0.04378044404429481,
          0.06243985459697312,
          0.08717944059488997,
          0.11919542336363162,
          0.15967916987668007,
          0.20964032928397897,
          0.2698283567013009,
          0.3405062017154992,
          0.42132832759267264,
          0.5111101369693962,
          0.6076965735934424,
          0.7077912679397772,
          0.8068727727433216,
          0.8991474365383898,
          0.977587403504558,
          1.0341358342572597,
          1.060625187699704,
          1.0548186867827614,
          1.0645293739837514,
          1.5123911482383907,
          5.487355524891602,
          36.475780629307366,
          60.57801889510644,
          -9.555207479961865,
          -11.386542486876369,
          -13.623959390228938,
          -15.473056605801274,
          -16.98232335894058,
          -18.175934012218704,
          -19.084902850489218,
          -19.742726331478035,
          -20.173730091696736,
          -20.368848151885047,
          -20.25504462504776,
          -19.66969489414469,
          -18.373147810859944,
          -16.118467393652796,
          -12.785786714931135,
          -8.514683167630142,
          -3.7614752350926985,
          0.79618000474357,
          4.476687829132788,
          6.827118087254389,
          7.754678782385533,
          7.492658726217824,
          6.460083433536381,
          5.092059793087348,
          3.7254755861602633,
          2.5572832633217057,
          1.6606239240579075,
          1.027085148641875,
          0.6084396858604114,
          0.34691707507130964,
          0.19117848087576503,
          0.10220217257984988,
          0.053173320651628296,
          0.027000697859304385,
          0.013415984386452778,
          0.006537343607400581,
          0.003130488644808511,
          0.0014757873044092071,
          0.0006860552120639235,
          0.0003149555822812289,
          0.0001429764360816075,
          0.00006426046093450118,
          0.000028623468316220303,
          0.000012649721424177436,
          0.000005550527698539491,
          0.000002420633522501876,
          0.0000010497192070151168,
          4.530995728612321e-7,
          1.947183627426415e-7,
          8.339255973770929e-8,
          3.5595370245143995e-8,
          1.5156837903149733e-8,
          6.437460077475958e-9,
          2.728654215781084e-9,
          1.1515731678892568e-9,
          4.783337908206254e-10,
          1.8204100749687185e-10,
          3.087873955966343e-11,
          -9.105290467077338e-11,
          -2.7154919876979147e-10,
          -6.295005175162226e-10,
          -1.3905724490198644e-9,
          -3.014287950806157e-9,
          -6.448880036849629e-9,
          -1.3631194938233824e-8
         ],
         "yaxis": "y2"
        },
        {
         "mode": "lines",
         "name": "vega",
         "type": "scatter",
         "x": [
          0.5,
          0.51,
          0.52,
          0.53,
          0.54,
          0.55,
          0.56,
          0.5700000000000001,
          0.58,
          0.59,
          0.6,
          0.61,
          0.62,
          0.63,
          0.64,
          0.65,
          0.66,
          0.67,
          0.6799999999999999,
          0.69,
          0.7,
          0.71,
          0.72,
          0.73,
          0.74,
          0.75,
          0.76,
          0.77,
          0.78,
          0.79,
          0.8,
          0.81,
          0.8200000000000001,
          0.8300000000000001,
          0.8400000000000001,
          0.8500000000000001,
          0.86,
          0.87,
          0.88,
          0.89,
          0.9,
          0.91,
          0.9199999999999999,
          0.9299999999999999,
          0.94,
          0.95,
          0.96,
          0.97,
          0.98,
          0.99,
          1,
          1.01,
          1.02,
          1.03,
          1.04,
          1.05,
          1.06,
          1.07,
          1.08,
          1.0899999999999999,
          1.1,
          1.1099999999999999,
          1.12,
          1.13,
          1.1400000000000001,
          1.15,
          1.1600000000000001,
          1.17,
          1.1800000000000002,
          1.19,
          1.2000000000000002,
          1.21,
          1.22,
          1.23,
          1.24,
          1.25,
          1.26,
          1.27,
          1.28,
          1.29,
          1.3,
          1.31,
          1.32,
          1.33,
          1.3399999999999999,
          1.35,
          1.3599999999999999,
          1.37,
          1.38,
          1.3900000000000001,
          1.4,
          1.4100000000000001,
          1.42,
          1.4300000000000002,
          1.44,
          1.4500000000000002,
          1.46,
          1.47,
          1.48,
          1.49,
          1.5
         ],
         "xaxis": "x3",
         "y": [
          0.0000016495538268657128,
          0.0000034459643472040113,
          0.000006958935983014669,
          0.00001360327356314528,
          0.0000257744740550514,
          0.00004739143355525499,
          0.00008466039619348109,
          0.00014709293405523738,
          0.000248816696080123,
          0.0004101584240578937,
          0.0006594748799271244,
          0.0010350917897250511,
          0.0015872059224153467,
          0.002379440042221681,
          0.00348976228803366,
          0.005010311417863456,
          0.007045756512447099,
          0.009709727888662645,
          0.013119028012265055,
          0.01738541288631712,
          0.02260495272293772,
          0.02884530050067946,
          0.03613134394894746,
          0.04443026938946715,
          0.053636969462395045,
          0.06356142530930531,
          0.0739192046185222,
          0.08432692277349219,
          0.09430367445992238,
          0.10328044625729227,
          0.11062100262360097,
          0.11566969853574194,
          0.11786612105904593,
          0.11670804048613537,
          0.10610607038388786,
          -0.008315452742227447,
          -0.2938186531941389,
          -0.5516677268932318,
          -0.7822812984015839,
          -0.982050638464696,
          -1.1484588279693422,
          -1.280003246091125,
          -1.376059669596981,
          -1.4367267551284901,
          -1.4626280794299493,
          -1.4546607859970277,
          -1.4137417291250411,
          -1.340704365440322,
          -1.236589192922563,
          -1.103508856649671,
          -0.9459604279483391,
          -0.7719669062871137,
          -0.5931606407082735,
          -0.4232017229112636,
          -0.2748461862467286,
          -0.15688529642326685,
          -0.0723618699231543,
          -0.018778133387967882,
          0.010097344912952944,
          0.021842564473694565,
          0.023414542889451523,
          0.020081251118811427,
          0.015206923674748046,
          0.010573973512308793,
          0.0068906923074534,
          0.004261853134287369,
          0.002523507496687838,
          0.0014396746797172566,
          0.0007953355606431234,
          0.0004271806375716336,
          0.00022382874072593428,
          0.00011473259750247045,
          0.00005767717007817974,
          0.000028495317175303292,
          0.000013862130780056825,
          0.000006650688645637448,
          0.000003151737114348574,
          0.0000014771356429688076,
          6.855244531756011e-7,
          3.153432688585145e-7,
          1.4393159927794663e-7,
          6.523467183106035e-8,
          2.9385559957573193e-8,
          1.3164087875328079e-8,
          5.869183611340034e-9,
          2.6056136415153475e-9,
          1.1525537468859426e-9,
          5.081698950526459e-10,
          2.2342544481190885e-10,
          9.793901800669857e-11,
          4.2695014190741176e-11,
          1.8252760414227964e-11,
          7.070732888081466e-12,
          1.0373646386341306e-12,
          -4.11823353196894e-12,
          -1.1997347559855598e-11,
          -2.770353391134961e-11,
          -6.099981630924844e-11,
          -1.3176612578824631e-10,
          -2.8085173076064507e-10,
          -5.915337664141873e-10
         ],
         "yaxis": "y3"
        },
        {
         "mode": "lines",
         "name": "theta",
         "type": "scatter",
         "x": [
          0.5,
          0.51,
          0.52,
          0.53,
          0.54,
          0.55,
          0.56,
          0.5700000000000001,
          0.58,
          0.59,
          0.6,
          0.61,
          0.62,
          0.63,
          0.64,
          0.65,
          0.66,
          0.67,
          0.6799999999999999,
          0.69,
          0.7,
          0.71,
          0.72,
          0.73,
          0.74,
          0.75,
          0.76,
          0.77,
          0.78,
          0.79,
          0.8,
          0.81,
          0.8200000000000001,
          0.8300000000000001,
          0.8400000000000001,
          0.8500000000000001,
          0.86,
          0.87,
          0.88,
          0.89,
          0.9,
          0.91,
          0.9199999999999999,
          0.9299999999999999,
          0.94,
          0.95,
          0.96,
          0.97,
          0.98,
          0.99,
          1,
          1.01,
          1.02,
          1.03,
          1.04,
          1.05,
          1.06,
          1.07,
          1.08,
          1.0899999999999999,
          1.1,
          1.1099999999999999,
          1.12,
          1.13,
          1.1400000000000001,
          1.15,
          1.1600000000000001,
          1.17,
          1.1800000000000002,
          1.19,
          1.2000000000000002,
          1.21,
          1.22,
          1.23,
          1.24,
          1.25,
          1.26,
          1.27,
          1.28,
          1.29,
          1.3,
          1.31,
          1.32,
          1.33,
          1.3399999999999999,
          1.35,
          1.3599999999999999,
          1.37,
          1.38,
          1.3900000000000001,
          1.4,
          1.4100000000000001,
          1.42,
          1.4300000000000002,
          1.44,
          1.4500000000000002,
          1.46,
          1.47,
          1.48,
          1.49,
          1.5
         ],
         "xaxis": "x4",
         "y": [
          -0.029113520015893374,
          -0.02911363351514333,
          -0.029113857755470422,
          -0.029114286749443642,
          -0.029115080258227934,
          -0.029116505026789974,
          -0.029118984295821278,
          -0.029123180869514695,
          -0.029130079624153003,
          -0.029141130056730788,
          -0.029158352781289632,
          -0.029184543639019407,
          -0.029223358958110273,
          -0.029279545148488396,
          -0.029358907491266396,
          -0.029468471605972536,
          -0.029616198231439742,
          -0.029810928336553667,
          -0.030061705096006912,
          -0.03037734104680198,
          -0.030765277698639352,
          -0.03123067921182498,
          -0.03177490246595801,
          -0.032394179752535356,
          -0.033077950919214706,
          -0.03380741356059966,
          -0.03455412378586836,
          -0.035278938929177404,
          -0.035931822770949945,
          -0.03645565429340579,
          -0.036819215426127316,
          -0.037271881983732845,
          -0.04027206962960412,
          -0.06444416196699479,
          -0.25493911199221386,
          -0.4216286395900748,
          0.003022103732086577,
          0.018852148682080745,
          0.038464731301889425,
          0.0567457925435686,
          0.07377713379232637,
          0.08950245160546369,
          0.1039305187641435,
          0.11711073361099965,
          0.12904804305565792,
          0.13950575284622777,
          0.14772690608901257,
          0.15215542442906302,
          0.15043713964008545,
          0.13991578183865128,
          0.11877347090170877,
          0.08733212260416964,
          0.04886579341875292,
          0.009108093741531004,
          -0.02549255101712308,
          -0.049952876673162394,
          -0.06228205257410445,
          -0.06357454560899489,
          -0.057004180726720005,
          -0.04633119826252987,
          -0.03474704310557468,
          -0.024320917672028926,
          -0.016003940364968203,
          -0.009937919397573871,
          -0.005816580620186777,
          -0.0031764264546701986,
          -0.0015670276793349808,
          -0.0006270591982214482,
          -0.00009809541073398066,
          0.00019004960892502897,
          0.0003425685166569438,
          0.0004212825713034538,
          0.00046100000360630323,
          0.00048064507593683454,
          0.000490189939009236,
          0.0004947545210064471,
          0.0004969067431313736,
          0.0004979087297389853,
          0.0004983700359644615,
          0.0004985802615392172,
          0.0004986752334641539,
          0.0004987177868576092,
          0.0004987367260682466,
          0.0004987450996986325,
          0.0004987487833588912,
          0.0004987503952647277,
          0.0004987510980395876,
          0.0004987514031524718,
          0.0004987515352959524,
          0.0004987515923495019,
          0.0004987516169757152,
          0.00049875162765213,
          0.0004987516324389591,
          0.0004987516349593649,
          0.0004987516371022241,
          0.0004987516404144866,
          0.0004987516471369602,
          0.0004987516616597387,
          0.0004987516930911842,
          0.0004987517605109349,
          0.0004987519034581695
         ],
         "yaxis": "y4"
        },
        {
         "mode": "lines",
         "name": "rho",
         "type": "scatter",
         "x": [
          0.5,
          0.51,
          0.52,
          0.53,
          0.54,
          0.55,
          0.56,
          0.5700000000000001,
          0.58,
          0.59,
          0.6,
          0.61,
          0.62,
          0.63,
          0.64,
          0.65,
          0.66,
          0.67,
          0.6799999999999999,
          0.69,
          0.7,
          0.71,
          0.72,
          0.73,
          0.74,
          0.75,
          0.76,
          0.77,
          0.78,
          0.79,
          0.8,
          0.81,
          0.8200000000000001,
          0.8300000000000001,
          0.8400000000000001,
          0.8500000000000001,
          0.86,
          0.87,
          0.88,
          0.89,
          0.9,
          0.91,
          0.9199999999999999,
          0.9299999999999999,
          0.94,
          0.95,
          0.96,
          0.97,
          0.98,
          0.99,
          1,
          1.01,
          1.02,
          1.03,
          1.04,
          1.05,
          1.06,
          1.07,
          1.08,
          1.0899999999999999,
          1.1,
          1.1099999999999999,
          1.12,
          1.13,
          1.1400000000000001,
          1.15,
          1.1600000000000001,
          1.17,
          1.1800000000000002,
          1.19,
          1.2000000000000002,
          1.21,
          1.22,
          1.23,
          1.24,
          1.25,
          1.26,
          1.27,
          1.28,
          1.29,
          1.3,
          1.31,
          1.32,
          1.33,
          1.3399999999999999,
          1.35,
          1.3599999999999999,
          1.37,
          1.38,
          1.3900000000000001,
          1.4,
          1.4100000000000001,
          1.42,
          1.4300000000000002,
          1.44,
          1.4500000000000002,
          1.46,
          1.47,
          1.48,
          1.49,
          1.5
         ],
         "xaxis": "x5",
         "y": [
          0.970088568884031,
          0.970088907031097,
          0.9700895891373573,
          0.9700909202678965,
          0.9700934369710756,
          0.9700980519322666,
          0.9701062699242202,
          0.9701204950519626,
          0.9701444559070405,
          0.970183764372412,
          0.9702466287165867,
          0.9703447109896679,
          0.9704941210136875,
          0.9707164805817792,
          0.9710399949911519,
          0.9715003828936197,
          0.9721415309852377,
          0.973015642994679,
          0.974182694409742,
          0.9757089310803435,
          0.9776642254183399,
          0.9801181009685411,
          0.9831343300871764,
          0.9867641216411704,
          0.9910379801753022,
          0.995956571985257,
          1.0014808928185959,
          1.0075224257501403,
          1.0139337594204378,
          1.0205006957894058,
          1.0269368641610543,
          1.0328854231602125,
          1.0379515923709115,
          1.0419114216572156,
          1.0459762027322517,
          1.060747499653819,
          1.0812774059619779,
          1.0815988006505906,
          1.063363732850292,
          1.0281545346548446,
          0.9779655352746587,
          0.9150815277077645,
          0.8419638423515369,
          0.7611518222119042,
          0.6751833309681377,
          0.5865397673196077,
          0.49762093282970654,
          0.41074842803344447,
          0.3281792826119595,
          0.25209131543947605,
          0.18449195127250018,
          0.12702599412751925,
          0.0807138545902697,
          0.0457202570423032,
          0.02127083882487446,
          0.005789855729285143,
          -0.0027748562628007734,
          -0.006553415815881147,
          -0.007417317116571731,
          -0.006789127209319568,
          -0.005606307380424946,
          -0.004394899363449611,
          -0.003388920393081196,
          -0.0026477091456394986,
          -0.0021449228456635328,
          -0.0018247289065090322,
          -0.0016309413784498794,
          -0.0015185353285859793,
          -0.0014556573814661355,
          -0.0014215693333458068,
          -0.0014035898336095531,
          -0.001394332192046488,
          -0.0013896664262519343,
          -0.0013873588772320145,
          -0.0013862368143865988,
          -0.0013856992928315548,
          -0.0013854452518904936,
          -0.0013853266047289536,
          -0.0013852717874254794,
          -0.0013852466981614797,
          -0.0013852353137194795,
          -0.0013852301862030125,
          -0.0013852278925585715,
          -0.001385226872513412,
          -0.0013852264213326526,
          -0.0013852262226374257,
          -0.001385226135498796,
          -0.001385226097369574,
          -0.0013852260807509231,
          -0.0013852260734859012,
          -0.0013852260703287045,
          -0.0013852260689617424,
          -0.0013852260684066309,
          -0.0013852260682470363,
          -0.001385226068330303,
          -0.0013852260687535756,
          -0.0013852260696556318,
          -0.0013852260716332165,
          -0.0013852260757965529,
          -0.0013852260846436426,
          -0.001385226103253756
         ],
         "yaxis": "y5"
        },
        {
         "mode": "lines",
         "name": "pv",
         "type": "scatter",
         "x": [
          0.5,
          0.51,
          0.52,
          0.53,
          0.54,
          0.55,
          0.56,
          0.5700000000000001,
          0.58,
          0.59,
          0.6,
          0.61,
          0.62,
          0.63,
          0.64,
          0.65,
          0.66,
          0.67,
          0.6799999999999999,
          0.69,
          0.7,
          0.71,
          0.72,
          0.73,
          0.74,
          0.75,
          0.76,
          0.77,
          0.78,
          0.79,
          0.8,
          0.81,
          0.8200000000000001,
          0.8300000000000001,
          0.8400000000000001,
          0.8500000000000001,
          0.86,
          0.87,
          0.88,
          0.89,
          0.9,
          0.91,
          0.9199999999999999,
          0.9299999999999999,
          0.94,
          0.95,
          0.96,
          0.97,
          0.98,
          0.99,
          1,
          1.01,
          1.02,
          1.03,
          1.04,
          1.05,
          1.06,
          1.07,
          1.08,
          1.0899999999999999,
          1.1,
          1.1099999999999999,
          1.12,
          1.13,
          1.1400000000000001,
          1.15,
          1.1600000000000001,
          1.17,
          1.1800000000000002,
          1.19,
          1.2000000000000002,
          1.21,
          1.22,
          1.23,
          1.24,
          1.25,
          1.26,
          1.27,
          1.28,
          1.29,
          1.3,
          1.31,
          1.32,
          1.33,
          1.3399999999999999,
          1.35,
          1.3599999999999999,
          1.37,
          1.38,
          1.3900000000000001,
          1.4,
          1.4100000000000001,
          1.42,
          1.4300000000000002,
          1.44,
          1.4500000000000002,
          1.46,
          1.47,
          1.48,
          1.49,
          1.5
         ],
         "xaxis": "x6",
         "y": [
          -0.47044725933765674,
          -0.4604472508206009,
          -0.45044723309122037,
          -0.4404471973703659,
          -0.4304471276077196,
          -0.42044699538984587,
          -0.41044675189447705,
          -0.4004463157079942,
          -0.39044555480016524,
          -0.38044426097564094,
          -0.37044211443566477,
          -0.36043863676768706,
          -0.3504331298804188,
          -0.3404246004371759,
          -0.33041166839752495,
          -0.32039246242334823,
          -0.31036450354181766,
          -0.3003245851897201,
          -0.2902686553356504,
          -0.2801917154497921,
          -0.2700877467129085,
          -0.2599496839764995,
          -0.24976945101368284,
          -0.23953807937979857,
          -0.2292459240023047,
          -0.21888299288221755,
          -0.2084393989674838,
          -0.19790593848374977,
          -0.18727479360116836,
          -0.17654033362641453,
          -0.16569992018597032,
          -0.15475403506246987,
          -0.14370083869671932,
          -0.1324897286407021,
          -0.12067277216701676,
          -0.10469656323655308,
          -0.08311977759415537,
          -0.06259615249993278,
          -0.04321480311760581,
          -0.02519508229216851,
          -0.008722071024749348,
          0.0060532075159231615,
          0.019011302641776827,
          0.030061227451399816,
          0.039137132544596366,
          0.04619588710167804,
          0.05121800084345057,
          0.05421491213248496,
          0.05524520338189061,
          0.05443849983104511,
          0.052020132774354993,
          0.04832318704617176,
          0.04377468788472355,
          0.03885010604517531,
          0.03400559810041399,
          0.02960969171679021,
          0.025897739884457063,
          0.02296250640539361,
          0.020777468375668656,
          0.01923889111440678,
          0.018209493145189094,
          0.017552270770880993,
          0.017150236244848044,
          0.01691369486927311,
          0.016779365933335108,
          0.01670548878685436,
          0.016666024012039156,
          0.01664548783990938,
          0.016635052938213286,
          0.01662986277349916,
          0.016627330904425794,
          0.016626117025814447,
          0.016625544160877994,
          0.016625277568224153,
          0.01662515508203379,
          0.01662509943540817,
          0.01662507441421103,
          0.01662506326411501,
          0.016625058336264074,
          0.016625056173749816,
          0.01662505523097009,
          0.01662505482220987,
          0.016625054645892003,
          0.016625054570155697,
          0.016625054537751524,
          0.01662505452392989,
          0.01662505451805169,
          0.016625054515557083,
          0.016625054514500595,
          0.016625054514053675,
          0.016625054513864673,
          0.016625054513784307,
          0.01662505451374898,
          0.016625054513730766,
          0.0166250545137154,
          0.016625054513691423,
          0.01662505451364176,
          0.016625054513532637,
          0.016625054513292076,
          0.01662505451276658,
          0.016625054511631168
         ],
         "yaxis": "y6"
        }
       ],
       "layout": {
        "annotations": [
         {
          "font": {
           "size": 16
          },
          "showarrow": false,
          "text": "delta",
          "x": 0.14444444444444446,
          "xanchor": "center",
          "xref": "paper",
          "y": 1,
          "yanchor": "bottom",
          "yref": "paper"
         },
         {
          "font": {
           "size": 16
          },
          "showarrow": false,
          "text": "gamma",
          "x": 0.5,
          "xanchor": "center",
          "xref": "paper",
          "y": 1,
          "yanchor": "bottom",
          "yref": "paper"
         },
         {
          "font": {
           "size": 16
          },
          "showarrow": false,
          "text": "vega",
          "x": 0.8555555555555556,
          "xanchor": "center",
          "xref": "paper",
          "y": 1,
          "yanchor": "bottom",
          "yref": "paper"
         },
         {
          "font": {
           "size": 16
          },
          "showarrow": false,
          "text": "theta",
          "x": 0.14444444444444446,
          "xanchor": "center",
          "xref": "paper",
          "y": 0.375,
          "yanchor": "bottom",
          "yref": "paper"
         },
         {
          "font": {
           "size": 16
          },
          "showarrow": false,
          "text": "rho",
          "x": 0.5,
          "xanchor": "center",
          "xref": "paper",
          "y": 0.375,
          "yanchor": "bottom",
          "yref": "paper"
         },
         {
          "font": {
           "size": 16
          },
          "showarrow": false,
          "text": "pv",
          "x": 0.8555555555555556,
          "xanchor": "center",
          "xref": "paper",
          "y": 0.375,
          "yanchor": "bottom",
          "yref": "paper"
         }
        ],
        "height": 600,
        "showlegend": false,
        "template": {
         "data": {
          "bar": [
           {
            "error_x": {
             "color": "#2a3f5f"
            },
            "error_y": {
             "color": "#2a3f5f"
            },
            "marker": {
             "line": {
              "color": "#E5ECF6",
              "width": 0.5
             },
             "pattern": {
              "fillmode": "overlay",
              "size": 10,
              "solidity": 0.2
             }
            },
            "type": "bar"
           }
          ],
          "barpolar": [
           {
            "marker": {
             "line": {
              "color": "#E5ECF6",
              "width": 0.5
             },
             "pattern": {
              "fillmode": "overlay",
              "size": 10,
              "solidity": 0.2
             }
            },
            "type": "barpolar"
           }
          ],
          "carpet": [
           {
            "aaxis": {
             "endlinecolor": "#2a3f5f",
             "gridcolor": "white",
             "linecolor": "white",
             "minorgridcolor": "white",
             "startlinecolor": "#2a3f5f"
            },
            "baxis": {
             "endlinecolor": "#2a3f5f",
             "gridcolor": "white",
             "linecolor": "white",
             "minorgridcolor": "white",
             "startlinecolor": "#2a3f5f"
            },
            "type": "carpet"
           }
          ],
          "choropleth": [
           {
            "colorbar": {
             "outlinewidth": 0,
             "ticks": ""
            },
            "type": "choropleth"
           }
          ],
          "contour": [
           {
            "colorbar": {
             "outlinewidth": 0,
             "ticks": ""
            },
            "colorscale": [
             [
              0,
              "#0d0887"
             ],
             [
              0.1111111111111111,
              "#46039f"
             ],
             [
              0.2222222222222222,
              "#7201a8"
             ],
             [
              0.3333333333333333,
              "#9c179e"
             ],
             [
              0.4444444444444444,
              "#bd3786"
             ],
             [
              0.5555555555555556,
              "#d8576b"
             ],
             [
              0.6666666666666666,
              "#ed7953"
             ],
             [
              0.7777777777777778,
              "#fb9f3a"
             ],
             [
              0.8888888888888888,
              "#fdca26"
             ],
             [
              1,
              "#f0f921"
             ]
            ],
            "type": "contour"
           }
          ],
          "contourcarpet": [
           {
            "colorbar": {
             "outlinewidth": 0,
             "ticks": ""
            },
            "type": "contourcarpet"
           }
          ],
          "heatmap": [
           {
            "colorbar": {
             "outlinewidth": 0,
             "ticks": ""
            },
            "colorscale": [
             [
              0,
              "#0d0887"
             ],
             [
              0.1111111111111111,
              "#46039f"
             ],
             [
              0.2222222222222222,
              "#7201a8"
             ],
             [
              0.3333333333333333,
              "#9c179e"
             ],
             [
              0.4444444444444444,
              "#bd3786"
             ],
             [
              0.5555555555555556,
              "#d8576b"
             ],
             [
              0.6666666666666666,
              "#ed7953"
             ],
             [
              0.7777777777777778,
              "#fb9f3a"
             ],
             [
              0.8888888888888888,
              "#fdca26"
             ],
             [
              1,
              "#f0f921"
             ]
            ],
            "type": "heatmap"
           }
          ],
          "heatmapgl": [
           {
            "colorbar": {
             "outlinewidth": 0,
             "ticks": ""
            },
            "colorscale": [
             [
              0,
              "#0d0887"
             ],
             [
              0.1111111111111111,
              "#46039f"
             ],
             [
              0.2222222222222222,
              "#7201a8"
             ],
             [
              0.3333333333333333,
              "#9c179e"
             ],
             [
              0.4444444444444444,
              "#bd3786"
             ],
             [
              0.5555555555555556,
              "#d8576b"
             ],
             [
              0.6666666666666666,
              "#ed7953"
             ],
             [
              0.7777777777777778,
              "#fb9f3a"
             ],
             [
              0.8888888888888888,
              "#fdca26"
             ],
             [
              1,
              "#f0f921"
             ]
            ],
            "type": "heatmapgl"
           }
          ],
          "histogram": [
           {
            "marker": {
             "pattern": {
              "fillmode": "overlay",
              "size": 10,
              "solidity": 0.2
             }
            },
            "type": "histogram"
           }
          ],
          "histogram2d": [
           {
            "colorbar": {
             "outlinewidth": 0,
             "ticks": ""
            },
            "colorscale": [
             [
              0,
              "#0d0887"
             ],
             [
              0.1111111111111111,
              "#46039f"
             ],
             [
              0.2222222222222222,
              "#7201a8"
             ],
             [
              0.3333333333333333,
              "#9c179e"
             ],
             [
              0.4444444444444444,
              "#bd3786"
             ],
             [
              0.5555555555555556,
              "#d8576b"
             ],
             [
              0.6666666666666666,
              "#ed7953"
             ],
             [
              0.7777777777777778,
              "#fb9f3a"
             ],
             [
              0.8888888888888888,
              "#fdca26"
             ],
             [
              1,
              "#f0f921"
             ]
            ],
            "type": "histogram2d"
           }
          ],
          "histogram2dcontour": [
           {
            "colorbar": {
             "outlinewidth": 0,
             "ticks": ""
            },
            "colorscale": [
             [
              0,
              "#0d0887"
             ],
             [
              0.1111111111111111,
              "#46039f"
             ],
             [
              0.2222222222222222,
              "#7201a8"
             ],
             [
              0.3333333333333333,
              "#9c179e"
             ],
             [
              0.4444444444444444,
              "#bd3786"
             ],
             [
              0.5555555555555556,
              "#d8576b"
             ],
             [
              0.6666666666666666,
              "#ed7953"
             ],
             [
              0.7777777777777778,
              "#fb9f3a"
             ],
             [
              0.8888888888888888,
              "#fdca26"
             ],
             [
              1,
              "#f0f921"
             ]
            ],
            "type": "histogram2dcontour"
           }
          ],
          "mesh3d": [
           {
            "colorbar": {
             "outlinewidth": 0,
             "ticks": ""
            },
            "type": "mesh3d"
           }
          ],
          "parcoords": [
           {
            "line": {
             "colorbar": {
              "outlinewidth": 0,
              "ticks": ""
             }
            },
            "type": "parcoords"
           }
          ],
          "pie": [
           {
            "automargin": true,
            "type": "pie"
           }
          ],
          "scatter": [
           {
            "fillpattern": {
             "fillmode": "overlay",
             "size": 10,
             "solidity": 0.2
            },
            "type": "scatter"
           }
          ],
          "scatter3d": [
           {
            "line": {
             "colorbar": {
              "outlinewidth": 0,
              "ticks": ""
             }
            },
            "marker": {
             "colorbar": {
              "outlinewidth": 0,
              "ticks": ""
             }
            },
            "type": "scatter3d"
           }
          ],
          "scattercarpet": [
           {
            "marker": {
             "colorbar": {
              "outlinewidth": 0,
              "ticks": ""
             }
            },
            "type": "scattercarpet"
           }
          ],
          "scattergeo": [
           {
            "marker": {
             "colorbar": {
              "outlinewidth": 0,
              "ticks": ""
             }
            },
            "type": "scattergeo"
           }
          ],
          "scattergl": [
           {
            "marker": {
             "colorbar": {
              "outlinewidth": 0,
              "ticks": ""
             }
            },
            "type": "scattergl"
           }
          ],
          "scattermapbox": [
           {
            "marker": {
             "colorbar": {
              "outlinewidth": 0,
              "ticks": ""
             }
            },
            "type": "scattermapbox"
           }
          ],
          "scatterpolar": [
           {
            "marker": {
             "colorbar": {
              "outlinewidth": 0,
              "ticks": ""
             }
            },
            "type": "scatterpolar"
           }
          ],
          "scatterpolargl": [
           {
            "marker": {
             "colorbar": {
              "outlinewidth": 0,
              "ticks": ""
             }
            },
            "type": "scatterpolargl"
           }
          ],
          "scatterternary": [
           {
            "marker": {
             "colorbar": {
              "outlinewidth": 0,
              "ticks": ""
             }
            },
            "type": "scatterternary"
           }
          ],
          "surface": [
           {
            "colorbar": {
             "outlinewidth": 0,
             "ticks": ""
            },
            "colorscale": [
             [
              0,
              "#0d0887"
             ],
             [
              0.1111111111111111,
              "#46039f"
             ],
             [
              0.2222222222222222,
              "#7201a8"
             ],
             [
              0.3333333333333333,
              "#9c179e"
             ],
             [
              0.4444444444444444,
              "#bd3786"
             ],
             [
              0.5555555555555556,
              "#d8576b"
             ],
             [
              0.6666666666666666,
              "#ed7953"
             ],
             [
              0.7777777777777778,
              "#fb9f3a"
             ],
             [
              0.8888888888888888,
              "#fdca26"
             ],
             [
              1,
              "#f0f921"
             ]
            ],
            "type": "surface"
           }
          ],
          "table": [
           {
            "cells": {
             "fill": {
              "color": "#EBF0F8"
             },
             "line": {
              "color": "white"
             }
            },
            "header": {
             "fill": {
              "color": "#C8D4E3"
             },
             "line": {
              "color": "white"
             }
            },
            "type": "table"
           }
          ]
         },
         "layout": {
          "annotationdefaults": {
           "arrowcolor": "#2a3f5f",
           "arrowhead": 0,
           "arrowwidth": 1
          },
          "autotypenumbers": "strict",
          "coloraxis": {
           "colorbar": {
            "outlinewidth": 0,
            "ticks": ""
           }
          },
          "colorscale": {
           "diverging": [
            [
             0,
             "#8e0152"
            ],
            [
             0.1,
             "#c51b7d"
            ],
            [
             0.2,
             "#de77ae"
            ],
            [
             0.3,
             "#f1b6da"
            ],
            [
             0.4,
             "#fde0ef"
            ],
            [
             0.5,
             "#f7f7f7"
            ],
            [
             0.6,
             "#e6f5d0"
            ],
            [
             0.7,
             "#b8e186"
            ],
            [
             0.8,
             "#7fbc41"
            ],
            [
             0.9,
             "#4d9221"
            ],
            [
             1,
             "#276419"
            ]
           ],
           "sequential": [
            [
             0,
             "#0d0887"
            ],
            [
             0.1111111111111111,
             "#46039f"
            ],
            [
             0.2222222222222222,
             "#7201a8"
            ],
            [
             0.3333333333333333,
             "#9c179e"
            ],
            [
             0.4444444444444444,
             "#bd3786"
            ],
            [
             0.5555555555555556,
             "#d8576b"
            ],
            [
             0.6666666666666666,
             "#ed7953"
            ],
            [
             0.7777777777777778,
             "#fb9f3a"
            ],
            [
             0.8888888888888888,
             "#fdca26"
            ],
            [
             1,
             "#f0f921"
            ]
           ],
           "sequentialminus": [
            [
             0,
             "#0d0887"
            ],
            [
             0.1111111111111111,
             "#46039f"
            ],
            [
             0.2222222222222222,
             "#7201a8"
            ],
            [
             0.3333333333333333,
             "#9c179e"
            ],
            [
             0.4444444444444444,
             "#bd3786"
            ],
            [
             0.5555555555555556,
             "#d8576b"
            ],
            [
             0.6666666666666666,
             "#ed7953"
            ],
            [
             0.7777777777777778,
             "#fb9f3a"
            ],
            [
             0.8888888888888888,
             "#fdca26"
            ],
            [
             1,
             "#f0f921"
            ]
           ]
          },
          "colorway": [
           "#636efa",
           "#EF553B",
           "#00cc96",
           "#ab63fa",
           "#FFA15A",
           "#19d3f3",
           "#FF6692",
           "#B6E880",
           "#FF97FF",
           "#FECB52"
          ],
          "font": {
           "color": "#2a3f5f"
          },
          "geo": {
           "bgcolor": "white",
           "lakecolor": "white",
           "landcolor": "#E5ECF6",
           "showlakes": true,
           "showland": true,
           "subunitcolor": "white"
          },
          "hoverlabel": {
           "align": "left"
          },
          "hovermode": "closest",
          "mapbox": {
           "style": "light"
          },
          "paper_bgcolor": "white",
          "plot_bgcolor": "#E5ECF6",
          "polar": {
           "angularaxis": {
            "gridcolor": "white",
            "linecolor": "white",
            "ticks": ""
           },
           "bgcolor": "#E5ECF6",
           "radialaxis": {
            "gridcolor": "white",
            "linecolor": "white",
            "ticks": ""
           }
          },
          "scene": {
           "xaxis": {
            "backgroundcolor": "#E5ECF6",
            "gridcolor": "white",
            "gridwidth": 2,
            "linecolor": "white",
            "showbackground": true,
            "ticks": "",
            "zerolinecolor": "white"
           },
           "yaxis": {
            "backgroundcolor": "#E5ECF6",
            "gridcolor": "white",
            "gridwidth": 2,
            "linecolor": "white",
            "showbackground": true,
            "ticks": "",
            "zerolinecolor": "white"
           },
           "zaxis": {
            "backgroundcolor": "#E5ECF6",
            "gridcolor": "white",
            "gridwidth": 2,
            "linecolor": "white",
            "showbackground": true,
            "ticks": "",
            "zerolinecolor": "white"
           }
          },
          "shapedefaults": {
           "line": {
            "color": "#2a3f5f"
           }
          },
          "ternary": {
           "aaxis": {
            "gridcolor": "white",
            "linecolor": "white",
            "ticks": ""
           },
           "baxis": {
            "gridcolor": "white",
            "linecolor": "white",
            "ticks": ""
           },
           "bgcolor": "#E5ECF6",
           "caxis": {
            "gridcolor": "white",
            "linecolor": "white",
            "ticks": ""
           }
          },
          "title": {
           "x": 0.05
          },
          "xaxis": {
           "automargin": true,
           "gridcolor": "white",
           "linecolor": "white",
           "ticks": "",
           "title": {
            "standoff": 15
           },
           "zerolinecolor": "white",
           "zerolinewidth": 2
          },
          "yaxis": {
           "automargin": true,
           "gridcolor": "white",
           "linecolor": "white",
           "ticks": "",
           "title": {
            "standoff": 15
           },
           "zerolinecolor": "white",
           "zerolinewidth": 2
          }
         }
        },
        "title": {
         "text": "图: 普通雪球产品的希腊字母"
        },
        "width": 1200,
        "xaxis": {
         "anchor": "y",
         "domain": [
          0,
          0.2888888888888889
         ],
         "tickvals": [
          0.5,
          0.7,
          0.9,
          1.1,
          1.3,
          1.5
         ],
         "title": {
          "text": "S0"
         }
        },
        "xaxis2": {
         "anchor": "y2",
         "domain": [
          0.35555555555555557,
          0.6444444444444445
         ],
         "tickvals": [
          0.5,
          0.7,
          0.9,
          1.1,
          1.3,
          1.5
         ],
         "title": {
          "text": "S0"
         }
        },
        "xaxis3": {
         "anchor": "y3",
         "domain": [
          0.7111111111111111,
          1
         ],
         "tickvals": [
          0.5,
          0.7,
          0.9,
          1.1,
          1.3,
          1.5
         ],
         "title": {
          "text": "S0"
         }
        },
        "xaxis4": {
         "anchor": "y4",
         "domain": [
          0,
          0.2888888888888889
         ],
         "tickvals": [
          0.5,
          0.7,
          0.9,
          1.1,
          1.3,
          1.5
         ],
         "title": {
          "text": "S0"
         }
        },
        "xaxis5": {
         "anchor": "y5",
         "domain": [
          0.35555555555555557,
          0.6444444444444445
         ],
         "tickvals": [
          0.5,
          0.7,
          0.9,
          1.1,
          1.3,
          1.5
         ],
         "title": {
          "text": "S0"
         }
        },
        "xaxis6": {
         "anchor": "y6",
         "domain": [
          0.7111111111111111,
          1
         ],
         "tickvals": [
          0.5,
          0.7,
          0.9,
          1.1,
          1.3,
          1.5
         ],
         "title": {
          "text": "S0"
         }
        },
        "yaxis": {
         "anchor": "x",
         "domain": [
          0.625,
          1
         ]
        },
        "yaxis2": {
         "anchor": "x2",
         "domain": [
          0.625,
          1
         ]
        },
        "yaxis3": {
         "anchor": "x3",
         "domain": [
          0.625,
          1
         ]
        },
        "yaxis4": {
         "anchor": "x4",
         "domain": [
          0,
          0.375
         ]
        },
        "yaxis5": {
         "anchor": "x5",
         "domain": [
          0,
          0.375
         ]
        },
        "yaxis6": {
         "anchor": "x6",
         "domain": [
          0,
          0.375
         ]
        }
       }
      }
     },
     "metadata": {},
     "output_type": "display_data"
    }
   ],
   "source": [
    "import plotly as py\n",
    "import plotly.graph_objects as go\n",
    "from plotly.subplots import make_subplots\n",
    "import numpy as np\n",
    "fig = make_subplots(rows=2, cols=3, subplot_titles=['delta','gamma','vega','theta','rho','pv'])\n",
    "fig.add_trace(\n",
    "    go.Scatter(\n",
    "        x=np.linspace(0.5,1.5,101),  \n",
    "        y=greeks_DF['delta'], \n",
    "        mode='lines',\n",
    "        name='delta'),\n",
    "        row=1,\n",
    "        col=1\n",
    ")\n",
    "fig.add_trace(\n",
    "    go.Scatter(\n",
    "        x=np.linspace(0.5,1.5,101),  \n",
    "        y=greeks_DF['gamma'], \n",
    "        mode='lines',\n",
    "        name='gamma'),\n",
    "        row=1,\n",
    "        col=2\n",
    ")\n",
    "fig.add_trace(\n",
    "    go.Scatter(\n",
    "        x=np.linspace(0.5,1.5,101),  \n",
    "        y=greeks_DF['vega'], \n",
    "        mode='lines',\n",
    "        name='vega'),\n",
    "        row=1,\n",
    "        col=3\n",
    ")\n",
    "fig.add_trace(\n",
    "    go.Scatter(\n",
    "        x=np.linspace(0.5,1.5,101),  \n",
    "        y=greeks_DF['theta'], \n",
    "        mode='lines',\n",
    "        name='theta'),\n",
    "        row=2,\n",
    "        col=1\n",
    ")\n",
    "fig.add_trace(\n",
    "    go.Scatter(\n",
    "        x=np.linspace(0.5,1.5,101),  \n",
    "        y=greeks_DF['rho'], \n",
    "        mode='lines',\n",
    "        name='rho'),\n",
    "        row=2,\n",
    "        col=2\n",
    ")\n",
    "fig.add_trace(\n",
    "    go.Scatter(\n",
    "        x=np.linspace(0.5,1.5,101),  \n",
    "        y=greeks_DF['pv'], \n",
    "        mode='lines',\n",
    "        name='pv'),\n",
    "        row=2,\n",
    "        col=3\n",
    ")\n",
    "fig.update_xaxes(title_text=\"S0\", row=1, col=1)\n",
    "fig.update_xaxes(title_text=\"S0\", row=1, col=2)\n",
    "fig.update_xaxes(title_text=\"S0\", row=1, col=3)\n",
    "fig.update_xaxes(title_text=\"S0\", row=2, col=1)\n",
    "fig.update_xaxes(title_text=\"S0\", row=2, col=2)\n",
    "fig.update_xaxes(title_text=\"S0\", row=2, col=3)\n",
    "ax_x_tickvals=[0.5,0.7,0.9,1.1,1.3,1.5]\n",
    "for ax in fig['layout']:\n",
    "    if ax[:5]=='xaxis':\n",
    "        fig['layout'][ax]['tickvals']=ax_x_tickvals\n",
    "fig.update_layout(\n",
    "    height=600,\n",
    "    width=1200,\n",
    "    title_text='图: 普通雪球产品的希腊字母',\n",
    "    showlegend=False\n",
    ")\n",
    "fig.show()"
   ]
  },
  {
   "cell_type": "markdown",
   "metadata": {},
   "source": [
    "### Script 10. 已敲入雪球的希腊字母"
   ]
  },
  {
   "cell_type": "code",
   "execution_count": 1,
   "metadata": {},
   "outputs": [
    {
     "name": "stderr",
     "output_type": "stream",
     "text": [
      "100%|██████████| 101/101 [00:12<00:00,  8.40it/s]\n"
     ]
    },
    {
     "data": {
      "application/vnd.plotly.v1+json": {
       "config": {
        "plotlyServerURL": "https://plot.ly"
       },
       "data": [
        {
         "mode": "lines",
         "name": "delta",
         "type": "scatter",
         "x": [
          0.5,
          0.51,
          0.52,
          0.53,
          0.54,
          0.55,
          0.56,
          0.5700000000000001,
          0.58,
          0.59,
          0.6,
          0.61,
          0.62,
          0.63,
          0.64,
          0.65,
          0.66,
          0.67,
          0.6799999999999999,
          0.69,
          0.7,
          0.71,
          0.72,
          0.73,
          0.74,
          0.75,
          0.76,
          0.77,
          0.78,
          0.79,
          0.8,
          0.81,
          0.8200000000000001,
          0.8300000000000001,
          0.8400000000000001,
          0.8500000000000001,
          0.86,
          0.87,
          0.88,
          0.89,
          0.9,
          0.91,
          0.9199999999999999,
          0.9299999999999999,
          0.94,
          0.95,
          0.96,
          0.97,
          0.98,
          0.99,
          1,
          1.01,
          1.02,
          1.03,
          1.04,
          1.05,
          1.06,
          1.07,
          1.08,
          1.0899999999999999,
          1.1,
          1.1099999999999999,
          1.12,
          1.13,
          1.1400000000000001,
          1.15,
          1.1600000000000001,
          1.17,
          1.1800000000000002,
          1.19,
          1.2000000000000002,
          1.21,
          1.22,
          1.23,
          1.24,
          1.25,
          1.26,
          1.27,
          1.28,
          1.29,
          1.3,
          1.31,
          1.32,
          1.33,
          1.3399999999999999,
          1.35,
          1.3599999999999999,
          1.37,
          1.38,
          1.3900000000000001,
          1.4,
          1.4100000000000001,
          1.42,
          1.4300000000000002,
          1.44,
          1.4500000000000002,
          1.46,
          1.47,
          1.48,
          1.49,
          1.5
         ],
         "xaxis": "x",
         "y": [
          1.0000028507447356,
          1.0000058162050216,
          1.000011483599618,
          1.0000219727684525,
          1.000040795888183,
          1.000073589409567,
          1.000129115107275,
          1.0002205882086561,
          1.0003673440375256,
          1.0005968630597655,
          1.000947068344013,
          1.001468821082698,
          1.002228369696067,
          1.003309538065266,
          1.0048152375646,
          1.0068679541103045,
          1.0096087046112079,
          1.013194072645581,
          1.017790903448431,
          1.0235684083074028,
          1.0306875549211432,
          1.0392878542712007,
          1.0494718565336028,
          1.0612879939892172,
          1.0747124913362338,
          1.0896315267121464,
          1.1058245508847637,
          1.1229503096304363,
          1.1405363215261,
          1.157973357432928,
          1.1745151967282543,
          1.1892847899342067,
          1.2012864878853406,
          1.2094247550005313,
          1.212528459416651,
          1.2093801085840634,
          1.198748037320717,
          1.1794187327893257,
          1.1502255208978633,
          1.1100716362610534,
          1.0579542934508825,
          0.993015447384644,
          0.9146713124314269,
          0.8228883499806771,
          0.7186395514053833,
          0.6044670179608981,
          0.48490219164785797,
          0.3663864792306757,
          0.256414567817185,
          0.1619882792247372,
          0.08791647944054216,
          0.035700389647596815,
          0.003510591089820035,
          -0.012823343724413138,
          -0.018346502132877123,
          -0.017684466610352657,
          -0.014304460965760846,
          -0.010359830877007016,
          -0.00691932131886388,
          -0.004334277271402018,
          -0.002574653821962301,
          -0.0014619842983399616,
          -0.0007984800362668009,
          -0.00042153498544641814,
          -0.00021599491079731282,
          -0.00010779482116173084,
          -0.00005255500558420131,
          -0.00002509606470344521,
          -0.000011765020030465725,
          -0.000005425296807567398,
          -0.000002465547816691421,
          -0.000001105911920666258,
          -4.903520251215605e-7,
          -2.1517692550981136e-7,
          -9.356772735086283e-8,
          -4.035707573679659e-8,
          -1.7282959950747936e-8,
          -7.354815165687018e-9,
          -3.1126867034401984e-9,
          -1.3110247975520034e-9,
          -5.498902615304228e-10,
          -2.2982636256364023e-10,
          -9.576199261172573e-11,
          -3.980199106809071e-11,
          -1.6508094642508248e-11,
          -6.836609467842224e-12,
          -2.8284921382195367e-12,
          -1.172521123178484e-12,
          -4.9276203085718e-13,
          -2.2326764737571998e-13,
          -1.401408750949835e-13,
          -1.716268970913224e-13,
          -3.3778242331520226e-13,
          -7.578194094004974e-13,
          -1.7290615312982717e-12,
          -3.920953600114749e-12,
          -8.79837489014264e-12,
          -1.9520241432328407e-11,
          -4.2807232045869566e-11,
          -9.278884521287272e-11,
          -1.9880011988456422e-10
         ],
         "yaxis": "y"
        },
        {
         "mode": "lines",
         "name": "gamma",
         "type": "scatter",
         "x": [
          0.5,
          0.51,
          0.52,
          0.53,
          0.54,
          0.55,
          0.56,
          0.5700000000000001,
          0.58,
          0.59,
          0.6,
          0.61,
          0.62,
          0.63,
          0.64,
          0.65,
          0.66,
          0.67,
          0.6799999999999999,
          0.69,
          0.7,
          0.71,
          0.72,
          0.73,
          0.74,
          0.75,
          0.76,
          0.77,
          0.78,
          0.79,
          0.8,
          0.81,
          0.8200000000000001,
          0.8300000000000001,
          0.8400000000000001,
          0.8500000000000001,
          0.86,
          0.87,
          0.88,
          0.89,
          0.9,
          0.91,
          0.9199999999999999,
          0.9299999999999999,
          0.94,
          0.95,
          0.96,
          0.97,
          0.98,
          0.99,
          1,
          1.01,
          1.02,
          1.03,
          1.04,
          1.05,
          1.06,
          1.07,
          1.08,
          1.0899999999999999,
          1.1,
          1.1099999999999999,
          1.12,
          1.13,
          1.1400000000000001,
          1.15,
          1.1600000000000001,
          1.17,
          1.1800000000000002,
          1.19,
          1.2000000000000002,
          1.21,
          1.22,
          1.23,
          1.24,
          1.25,
          1.26,
          1.27,
          1.28,
          1.29,
          1.3,
          1.31,
          1.32,
          1.33,
          1.3399999999999999,
          1.35,
          1.3599999999999999,
          1.37,
          1.38,
          1.3900000000000001,
          1.4,
          1.4100000000000001,
          1.42,
          1.4300000000000002,
          1.44,
          1.4500000000000002,
          1.46,
          1.47,
          1.48,
          1.49,
          1.5
         ],
         "xaxis": "x2",
         "y": [
          0.00020597056948901127,
          0.0004012758513698506,
          0.000756066379786133,
          0.0013808153742282015,
          0.002445304620275564,
          0.004207533425435926,
          0.00703655956135638,
          0.011457558181173624,
          0.018170222200284407,
          0.0281065475595302,
          0.0424205467543083,
          0.06254506763797585,
          0.09011661756165333,
          0.12700690365872838,
          0.17514736960029184,
          0.23650742364413507,
          0.3128056325008357,
          0.4054177628816484,
          0.5150043797105022,
          0.641360080405414,
          0.7830362965651919,
          0.9371810297238012,
          1.0992674033684284,
          1.2630047541990752,
          1.420277339334122,
          1.5612142743580568,
          1.674394134659067,
          1.7471310864717728,
          1.7659260705785202,
          1.7169618522706946,
          1.5867109191269877,
          1.3625542327574305,
          1.0334244277724662,
          0.5904064854683021,
          0.027300426023671304,
          -0.659001574591408,
          -1.468260669776154,
          -2.3971556427768106,
          -3.4397015103983777,
          -4.587949749373471,
          -5.831015730379999,
          -7.150698878917676,
          -8.510167231120114,
          -9.836183854134442,
          -11.001198021406646,
          -11.820065058294835,
          -12.081552886259388,
          -11.615620919563042,
          -10.380736980027022,
          -8.514302575800832,
          -6.314456176675018,
          -4.143026894860032,
          -2.305142134865277,
          -0.9662986973037044,
          -0.138349049253359,
          0.2732915091276122,
          0.4057602643997864,
          0.38554762020440275,
          0.3038743780532166,
          0.21356194593008743,
          0.13823431944793335,
          0.08393058138160918,
          0.04836675579005172,
          0.026680689151279913,
          0.01417812723864747,
          0.007295248075503745,
          0.003649626151706953,
          0.0017813605120880836,
          0.000850825281835022,
          0.0003986541600307436,
          0.0001836565773110889,
          0.00008334465350221787,
          0.00003732379534659305,
          0.000016517973415427065,
          0.000007234364109687217,
          0.0000031392634713967027,
          0.00000135116160477585,
          5.774065755117689e-7,
          2.451849521209557e-7,
          1.0355001314475839e-7,
          4.351926445772897e-8,
          1.8216972000447777e-8,
          7.597419785421289e-9,
          3.159513090600394e-9,
          1.3103751024035992e-9,
          5.424711129924289e-10,
          2.2404343854959975e-10,
          9.227704823992988e-11,
          3.723771040639145e-11,
          1.3970445259665188e-11,
          2.0179436353199593e-12,
          -7.95768728982872e-12,
          -2.346918092870824e-11,
          -5.6022856058246516e-11,
          -1.277618485972116e-10,
          -2.869616289867935e-10,
          -6.360435728487678e-10,
          -1.3933661172582834e-9,
          -3.015428382601905e-9,
          -6.4494113696561084e-9,
          -1.3631349135876132e-8
         ],
         "yaxis": "y2"
        },
        {
         "mode": "lines",
         "name": "vega",
         "type": "scatter",
         "x": [
          0.5,
          0.51,
          0.52,
          0.53,
          0.54,
          0.55,
          0.56,
          0.5700000000000001,
          0.58,
          0.59,
          0.6,
          0.61,
          0.62,
          0.63,
          0.64,
          0.65,
          0.66,
          0.67,
          0.6799999999999999,
          0.69,
          0.7,
          0.71,
          0.72,
          0.73,
          0.74,
          0.75,
          0.76,
          0.77,
          0.78,
          0.79,
          0.8,
          0.81,
          0.8200000000000001,
          0.8300000000000001,
          0.8400000000000001,
          0.8500000000000001,
          0.86,
          0.87,
          0.88,
          0.89,
          0.9,
          0.91,
          0.9199999999999999,
          0.9299999999999999,
          0.94,
          0.95,
          0.96,
          0.97,
          0.98,
          0.99,
          1,
          1.01,
          1.02,
          1.03,
          1.04,
          1.05,
          1.06,
          1.07,
          1.08,
          1.0899999999999999,
          1.1,
          1.1099999999999999,
          1.12,
          1.13,
          1.1400000000000001,
          1.15,
          1.1600000000000001,
          1.17,
          1.1800000000000002,
          1.19,
          1.2000000000000002,
          1.21,
          1.22,
          1.23,
          1.24,
          1.25,
          1.26,
          1.27,
          1.28,
          1.29,
          1.3,
          1.31,
          1.32,
          1.33,
          1.3399999999999999,
          1.35,
          1.3599999999999999,
          1.37,
          1.38,
          1.3900000000000001,
          1.4,
          1.4100000000000001,
          1.42,
          1.4300000000000002,
          1.44,
          1.4500000000000002,
          1.46,
          1.47,
          1.48,
          1.49,
          1.5
         ],
         "xaxis": "x3",
         "y": [
          0.0000075670147925421816,
          0.000015206399195388798,
          0.000029556254887985745,
          0.000055637956575260716,
          0.0001015681969640525,
          0.00018002074747558439,
          0.0003101432596297471,
          0.0005199149323287244,
          0.0008489224111452032,
          0.0013513603498438442,
          0.0020990483224903045,
          0.00318400400661778,
          0.0047201368644778086,
          0.0068433634807796295,
          0.00970957565304964,
          0.013489747711703526,
          0.018361743306050116,
          0.02449850099228712,
          0.03205263833394589,
          0.04113798606952823,
          0.051808823235910406,
          0.06403838209911861,
          0.0776980762299262,
          0.09253987692617316,
          0.10818354073291458,
          0.12411130547684834,
          0.13967130883962842,
          0.15409160648846565,
          0.16650492348097012,
          0.17598443119934415,
          0.18158925178876628,
          0.1824180130787223,
          0.1776679960225902,
          0.1666964932946352,
          0.1490814676610025,
          0.12467694203172064,
          0.09366012215174246,
          0.05656487046823422,
          0.01429971735718294,
          -0.03185100931370893,
          -0.0802345091150472,
          -0.1288324328206844,
          -0.17524463606335972,
          -0.21666764084973117,
          -0.24993517637461604,
          -0.2717528571724581,
          -0.2792530924733902,
          -0.27085096034329403,
          -0.2471219946288926,
          -0.21120559687026058,
          -0.16834356892019356,
          -0.12458262255957489,
          -0.0851861811713081,
          -0.05346878262172533,
          -0.030473771099562286,
          -0.015431774427299844,
          -0.006588260218917674,
          -0.0019821708080666745,
          0.00006016846273992904,
          0.0007372061379545825,
          0.0007924974054010492,
          0.0006287963831633214,
          0.00043264514578214563,
          0.0002723748404598325,
          0.00016093588348781163,
          0.0000905606943116255,
          0.00004899426956153641,
          0.00002565477257021609,
          0.00001306752405935696,
          0.00000649990091958208,
          0.000003167389427127798,
          0.0000015159752758675538,
          7.142745422905605e-7,
          3.319037544802228e-7,
          1.523626086408214e-7,
          6.919101749880419e-8,
          3.112531066218338e-8,
          1.3884011995646262e-8,
          6.147964082270363e-9,
          2.7046281880771517e-9,
          1.1831299828735098e-9,
          5.14963072184571e-10,
          2.2316523629051233e-10,
          9.631878628013624e-11,
          4.143907439413397e-11,
          1.778785452266618e-11,
          7.601558271730369e-12,
          3.236994006172722e-12,
          1.3357370765021415e-12,
          4.85722573273506e-13,
          1.734723475976807e-14,
          -3.9898639947466563e-13,
          -1.078998002057574e-12,
          -2.5222879340702775e-12,
          -5.665606872540252e-12,
          -1.2666950821582645e-11,
          -2.7994967455313713e-11,
          -6.112124695256682e-11,
          -1.3182163693947757e-10,
          -2.8087601688930874e-10,
          -5.915372358611393e-10
         ],
         "yaxis": "y3"
        },
        {
         "mode": "lines",
         "name": "theta",
         "type": "scatter",
         "x": [
          0.5,
          0.51,
          0.52,
          0.53,
          0.54,
          0.55,
          0.56,
          0.5700000000000001,
          0.58,
          0.59,
          0.6,
          0.61,
          0.62,
          0.63,
          0.64,
          0.65,
          0.66,
          0.67,
          0.6799999999999999,
          0.69,
          0.7,
          0.71,
          0.72,
          0.73,
          0.74,
          0.75,
          0.76,
          0.77,
          0.78,
          0.79,
          0.8,
          0.81,
          0.8200000000000001,
          0.8300000000000001,
          0.8400000000000001,
          0.8500000000000001,
          0.86,
          0.87,
          0.88,
          0.89,
          0.9,
          0.91,
          0.9199999999999999,
          0.9299999999999999,
          0.94,
          0.95,
          0.96,
          0.97,
          0.98,
          0.99,
          1,
          1.01,
          1.02,
          1.03,
          1.04,
          1.05,
          1.06,
          1.07,
          1.08,
          1.0899999999999999,
          1.1,
          1.1099999999999999,
          1.12,
          1.13,
          1.1400000000000001,
          1.15,
          1.1600000000000001,
          1.17,
          1.1800000000000002,
          1.19,
          1.2000000000000002,
          1.21,
          1.22,
          1.23,
          1.24,
          1.25,
          1.26,
          1.27,
          1.28,
          1.29,
          1.3,
          1.31,
          1.32,
          1.33,
          1.3399999999999999,
          1.35,
          1.3599999999999999,
          1.37,
          1.38,
          1.3900000000000001,
          1.4,
          1.4100000000000001,
          1.42,
          1.4300000000000002,
          1.44,
          1.4500000000000002,
          1.46,
          1.47,
          1.48,
          1.49,
          1.5
         ],
         "xaxis": "x4",
         "y": [
          -0.029113894784152772,
          -0.029114386614019657,
          -0.029115319890067635,
          -0.029117035326461583,
          -0.029120085625915303,
          -0.029125352205151223,
          -0.029134169191342246,
          -0.029148530791256354,
          -0.0291712597939105,
          -0.029206315595415686,
          -0.029258942319173805,
          -0.029336034567142184,
          -0.029446118337475333,
          -0.02959964807943858,
          -0.029808603089190366,
          -0.030086506278676733,
          -0.03044741765152468,
          -0.03090544085295035,
          -0.031473012686581724,
          -0.03215975581519333,
          -0.03297020099088559,
          -0.03390207087248202,
          -0.03494386005593919,
          -0.03607294284193304,
          -0.03725365376304721,
          -0.03843587938368165,
          -0.03955431421375204,
          -0.04052827628654038,
          -0.04126261644246273,
          -0.04164928784859513,
          -0.041570022232827394,
          -0.040899708397961955,
          -0.039510586445719,
          -0.03727693378838331,
          -0.03408024104712735,
          -0.029813952710511106,
          -0.0243879575773904,
          -0.01773011342712203,
          -0.009786565823185829,
          -0.000519777580735209,
          0.010082497237754687,
          0.021972692250214847,
          0.03495292236611693,
          0.04852221649546657,
          0.06169994493290504,
          0.07293903449023978,
          0.08030879147610376,
          0.08200536591120632,
          0.07711355929648928,
          0.06617299247784167,
          0.051225417092717926,
          0.03515318790080003,
          0.020685092342550053,
          0.00958342913327373,
          0.002356231196500285,
          -0.0014753124282480621,
          -0.0028888364957117716,
          -0.0028923360582338454,
          -0.0022682910833020323,
          -0.0015013917086117352,
          -0.0008284647428497744,
          -0.0003257480923237948,
          0.000013238361886160413,
          0.00022532827579095388,
          0.00035052141780104063,
          0.0004209844554639941,
          0.0004591016201491222,
          0.00047903571314416964,
          0.0004891614042510134,
          0.0004941767648964011,
          0.0004966064444448472,
          0.0004977610136783646,
          0.0004983003115418987,
          0.0004985484742915725,
          0.0004986611497884417,
          0.0004987117125123868,
          0.0004987341675689212,
          0.0004987440482537708,
          0.0004987483613609322,
          0.000498750230432247,
          0.0004987510355334693,
          0.0004987513803422397,
          0.000498751527371286,
          0.0004987515897848664,
          0.0004987516161978324,
          0.0004987516273364247,
          0.0004987516320263825,
          0.0004987516339968296,
          0.0004987516348331144,
          0.0004987516351930958,
          0.000498751635384295,
          0.00049875163555274,
          0.0004987516358260092,
          0.0004987516364121666,
          0.0004987516377246602,
          0.000498751640679445,
          0.0004987516472510279,
          0.0004987516617091268,
          0.0004987516931116013,
          0.0004987517605206147,
          0.000498751903460965
         ],
         "yaxis": "y4"
        },
        {
         "mode": "lines",
         "name": "rho",
         "type": "scatter",
         "x": [
          0.5,
          0.51,
          0.52,
          0.53,
          0.54,
          0.55,
          0.56,
          0.5700000000000001,
          0.58,
          0.59,
          0.6,
          0.61,
          0.62,
          0.63,
          0.64,
          0.65,
          0.66,
          0.67,
          0.6799999999999999,
          0.69,
          0.7,
          0.71,
          0.72,
          0.73,
          0.74,
          0.75,
          0.76,
          0.77,
          0.78,
          0.79,
          0.8,
          0.81,
          0.8200000000000001,
          0.8300000000000001,
          0.8400000000000001,
          0.8500000000000001,
          0.86,
          0.87,
          0.88,
          0.89,
          0.9,
          0.91,
          0.9199999999999999,
          0.9299999999999999,
          0.94,
          0.95,
          0.96,
          0.97,
          0.98,
          0.99,
          1,
          1.01,
          1.02,
          1.03,
          1.04,
          1.05,
          1.06,
          1.07,
          1.08,
          1.0899999999999999,
          1.1,
          1.1099999999999999,
          1.12,
          1.13,
          1.1400000000000001,
          1.15,
          1.1600000000000001,
          1.17,
          1.1800000000000002,
          1.19,
          1.2000000000000002,
          1.21,
          1.22,
          1.23,
          1.24,
          1.25,
          1.26,
          1.27,
          1.28,
          1.29,
          1.3,
          1.31,
          1.32,
          1.33,
          1.3399999999999999,
          1.35,
          1.3599999999999999,
          1.37,
          1.38,
          1.3900000000000001,
          1.4,
          1.4100000000000001,
          1.42,
          1.4300000000000002,
          1.44,
          1.4500000000000002,
          1.46,
          1.47,
          1.48,
          1.49,
          1.5
         ],
         "xaxis": "x5",
         "y": [
          0.9700897069749859,
          0.9700912408254769,
          0.9700942173075378,
          0.9700998081437762,
          0.9701099871211039,
          0.9701279703686616,
          0.9701588369002145,
          0.9702103588374866,
          0.9702940785513148,
          0.970426625988452,
          0.9706312720570986,
          0.9709396256568636,
          0.9713933851116519,
          0.9720459217065214,
          0.9729634950191857,
          0.9742257471575533,
          0.9759251895805621,
          0.9781652779531358,
          0.9810567965571337,
          0.9847122608962477,
          0.9892382112101084,
          0.9947254265075811,
          1.001237215846662,
          1.0087963027833324,
          1.0173707891515948,
          1.026860231004234,
          1.037082548088264,
          1.0477631606424787,
          1.0585270835496985,
          1.0688954106326531,
          1.0782866421989445,
          1.0860239330907628,
          1.0913482112034356,
          1.0934375622683734,
          1.0914322740954718,
          1.0844650817187496,
          1.07169548141689,
          1.0523465457457082,
          1.0257423648658837,
          0.9913433515578718,
          0.9487781885049729,
          0.8978730939376289,
          0.8386867548229177,
          0.7715651570818494,
          0.697234830924251,
          0.6169362873325174,
          0.5325661074295218,
          0.44674371341614505,
          0.36269995507343805,
          0.28392069423217176,
          0.21359363886259974,
          0.15402969891141483,
          0.10627449197488092,
          0.07005613815141976,
          0.04405385586372934,
          0.026351172253552546,
          0.014892712169582711,
          0.007819666852239282,
          0.0036422073527789256,
          0.0012733450510463151,
          -0.000020617730557559444,
          -0.0007037380993918374,
          -0.001053318008120696,
          -0.0012272429593188083,
          -0.0013115804796334785,
          -0.0013515426513510675,
          -0.0013700831145227466,
          -0.0013785243328581775,
          -0.0013823017357833534,
          -0.0013839663741410657,
          -0.001384689673193662,
          -0.0013850000642606775,
          -0.0013851317366073146,
          -0.0013851870337422412,
          -0.00138521003882619,
          -0.0013852195319755123,
          -0.0013852234193659219,
          -0.001385225000781476,
          -0.0013852256401034047,
          -0.0013852258972033016,
          -0.0013852260000932204,
          -0.0013852260410812667,
          -0.0013852260573807285,
          -0.0013852260638616554,
          -0.0013852260664290461,
          -0.0013852260674351857,
          -0.0013852260678168249,
          -0.0013852260679625417,
          -0.0013852260679902972,
          -0.0013852260679694806,
          -0.0013852260679556028,
          -0.0013852260679209083,
          -0.001385226067941725,
          -0.0013852260680527473,
          -0.0013852260682539752,
          -0.0013852260686980644,
          -0.001385226069641754,
          -0.001385226071605461,
          -0.0013852260757965529,
          -0.0013852260846505815,
          -0.0013852261032468172
         ],
         "yaxis": "y5"
        },
        {
         "mode": "lines",
         "name": "pv",
         "type": "scatter",
         "x": [
          0.5,
          0.51,
          0.52,
          0.53,
          0.54,
          0.55,
          0.56,
          0.5700000000000001,
          0.58,
          0.59,
          0.6,
          0.61,
          0.62,
          0.63,
          0.64,
          0.65,
          0.66,
          0.67,
          0.6799999999999999,
          0.69,
          0.7,
          0.71,
          0.72,
          0.73,
          0.74,
          0.75,
          0.76,
          0.77,
          0.78,
          0.79,
          0.8,
          0.81,
          0.8200000000000001,
          0.8300000000000001,
          0.8400000000000001,
          0.8500000000000001,
          0.86,
          0.87,
          0.88,
          0.89,
          0.9,
          0.91,
          0.9199999999999999,
          0.9299999999999999,
          0.94,
          0.95,
          0.96,
          0.97,
          0.98,
          0.99,
          1,
          1.01,
          1.02,
          1.03,
          1.04,
          1.05,
          1.06,
          1.07,
          1.08,
          1.0899999999999999,
          1.1,
          1.1099999999999999,
          1.12,
          1.13,
          1.1400000000000001,
          1.15,
          1.1600000000000001,
          1.17,
          1.1800000000000002,
          1.19,
          1.2000000000000002,
          1.21,
          1.22,
          1.23,
          1.24,
          1.25,
          1.26,
          1.27,
          1.28,
          1.29,
          1.3,
          1.31,
          1.32,
          1.33,
          1.3399999999999999,
          1.35,
          1.3599999999999999,
          1.37,
          1.38,
          1.3900000000000001,
          1.4,
          1.4100000000000001,
          1.42,
          1.4300000000000002,
          1.44,
          1.4500000000000002,
          1.46,
          1.47,
          1.48,
          1.49,
          1.5
         ],
         "xaxis": "x6",
         "y": [
          -0.4704472303384564,
          -0.4604471894653091,
          -0.4504471074987917,
          -0.4404469483055614,
          -0.43044664843454294,
          -0.4204460999505425,
          -0.41044512458757315,
          -0.4004434365123316,
          -0.39044058991451575,
          -0.38043590851571996,
          -0.37042839285849893,
          -0.3604166041711148,
          -0.35039852220990253,
          -0.3403713807159964,
          -0.3303314821359694,
          -0.3202740035896093,
          -0.3101928024000346,
          -0.3000802435840896,
          -0.28992706478261615,
          -0.2797223099518497,
          -0.26945335172044704,
          -0.25910603630492,
          -0.24866496932353455,
          -0.2381139683462326,
          -0.2274366915089728,
          -0.2166174478283406,
          -0.20564218375554064,
          -0.1944996218399429,
          -0.1831825302809744,
          -0.17168906633388833,
          -0.16002416202368464,
          -0.1482008673737687,
          -0.13624161995035228,
          -0.12417934012098565,
          -0.11205833312460936,
          -0.09993489765649524,
          -0.0878776487187449,
          -0.07596748490569236,
          -0.06429726836819641,
          -0.05297122042701092,
          -0.04210413352191335,
          -0.031820271765749274,
          -0.022251542037507517,
          -0.013533793351598968,
          -0.005799488281805876,
          0.0008350286478887303,
          0.0062879954253120054,
          0.01053328985454799,
          0.01361741057809419,
          0.015663671831103676,
          0.016858559434342845,
          0.01742200141991452,
          0.017571198942888028,
          0.0174900559615696,
          0.01731254757741529,
          0.017121491133243523,
          0.01695800050332182,
          0.01683523984192682,
          0.016751102866984186,
          0.016697361162383514,
          0.016664949340695488,
          0.01664632254326187,
          0.016636052222676383,
          0.016630589099741536,
          0.016627773249941614,
          0.016626361442789273,
          0.016625670772668955,
          0.016625340116510217,
          0.016625184854214794,
          0.016625113180624537,
          0.01662508059853892,
          0.016625065984714065,
          0.016625059509512582,
          0.016625056670591797,
          0.01662505543787465,
          0.016625054907002248,
          0.01662505468010729,
          0.01662505458374726,
          0.01662505454306429,
          0.0166250545259704,
          0.01662505451882017,
          0.016625054515839812,
          0.016625054514601664,
          0.016625054514088564,
          0.01662505451387642,
          0.016625054513788835,
          0.016625054513752728,
          0.016625054513737834,
          0.01662505451373167,
          0.016625054513729014,
          0.016625054513727675,
          0.016625054513726513,
          0.016625054513724605,
          0.016625054513720487,
          0.01662505451371106,
          0.01662505451368958,
          0.016625054513640984,
          0.016625054513532307,
          0.016625054513291937,
          0.01662505451276652,
          0.016625054511631137
         ],
         "yaxis": "y6"
        }
       ],
       "layout": {
        "annotations": [
         {
          "font": {
           "size": 16
          },
          "showarrow": false,
          "text": "delta",
          "x": 0.14444444444444446,
          "xanchor": "center",
          "xref": "paper",
          "y": 1,
          "yanchor": "bottom",
          "yref": "paper"
         },
         {
          "font": {
           "size": 16
          },
          "showarrow": false,
          "text": "gamma",
          "x": 0.5,
          "xanchor": "center",
          "xref": "paper",
          "y": 1,
          "yanchor": "bottom",
          "yref": "paper"
         },
         {
          "font": {
           "size": 16
          },
          "showarrow": false,
          "text": "vega",
          "x": 0.8555555555555556,
          "xanchor": "center",
          "xref": "paper",
          "y": 1,
          "yanchor": "bottom",
          "yref": "paper"
         },
         {
          "font": {
           "size": 16
          },
          "showarrow": false,
          "text": "theta",
          "x": 0.14444444444444446,
          "xanchor": "center",
          "xref": "paper",
          "y": 0.375,
          "yanchor": "bottom",
          "yref": "paper"
         },
         {
          "font": {
           "size": 16
          },
          "showarrow": false,
          "text": "rho",
          "x": 0.5,
          "xanchor": "center",
          "xref": "paper",
          "y": 0.375,
          "yanchor": "bottom",
          "yref": "paper"
         },
         {
          "font": {
           "size": 16
          },
          "showarrow": false,
          "text": "pv",
          "x": 0.8555555555555556,
          "xanchor": "center",
          "xref": "paper",
          "y": 0.375,
          "yanchor": "bottom",
          "yref": "paper"
         }
        ],
        "height": 600,
        "showlegend": false,
        "template": {
         "data": {
          "bar": [
           {
            "error_x": {
             "color": "#2a3f5f"
            },
            "error_y": {
             "color": "#2a3f5f"
            },
            "marker": {
             "line": {
              "color": "#E5ECF6",
              "width": 0.5
             },
             "pattern": {
              "fillmode": "overlay",
              "size": 10,
              "solidity": 0.2
             }
            },
            "type": "bar"
           }
          ],
          "barpolar": [
           {
            "marker": {
             "line": {
              "color": "#E5ECF6",
              "width": 0.5
             },
             "pattern": {
              "fillmode": "overlay",
              "size": 10,
              "solidity": 0.2
             }
            },
            "type": "barpolar"
           }
          ],
          "carpet": [
           {
            "aaxis": {
             "endlinecolor": "#2a3f5f",
             "gridcolor": "white",
             "linecolor": "white",
             "minorgridcolor": "white",
             "startlinecolor": "#2a3f5f"
            },
            "baxis": {
             "endlinecolor": "#2a3f5f",
             "gridcolor": "white",
             "linecolor": "white",
             "minorgridcolor": "white",
             "startlinecolor": "#2a3f5f"
            },
            "type": "carpet"
           }
          ],
          "choropleth": [
           {
            "colorbar": {
             "outlinewidth": 0,
             "ticks": ""
            },
            "type": "choropleth"
           }
          ],
          "contour": [
           {
            "colorbar": {
             "outlinewidth": 0,
             "ticks": ""
            },
            "colorscale": [
             [
              0,
              "#0d0887"
             ],
             [
              0.1111111111111111,
              "#46039f"
             ],
             [
              0.2222222222222222,
              "#7201a8"
             ],
             [
              0.3333333333333333,
              "#9c179e"
             ],
             [
              0.4444444444444444,
              "#bd3786"
             ],
             [
              0.5555555555555556,
              "#d8576b"
             ],
             [
              0.6666666666666666,
              "#ed7953"
             ],
             [
              0.7777777777777778,
              "#fb9f3a"
             ],
             [
              0.8888888888888888,
              "#fdca26"
             ],
             [
              1,
              "#f0f921"
             ]
            ],
            "type": "contour"
           }
          ],
          "contourcarpet": [
           {
            "colorbar": {
             "outlinewidth": 0,
             "ticks": ""
            },
            "type": "contourcarpet"
           }
          ],
          "heatmap": [
           {
            "colorbar": {
             "outlinewidth": 0,
             "ticks": ""
            },
            "colorscale": [
             [
              0,
              "#0d0887"
             ],
             [
              0.1111111111111111,
              "#46039f"
             ],
             [
              0.2222222222222222,
              "#7201a8"
             ],
             [
              0.3333333333333333,
              "#9c179e"
             ],
             [
              0.4444444444444444,
              "#bd3786"
             ],
             [
              0.5555555555555556,
              "#d8576b"
             ],
             [
              0.6666666666666666,
              "#ed7953"
             ],
             [
              0.7777777777777778,
              "#fb9f3a"
             ],
             [
              0.8888888888888888,
              "#fdca26"
             ],
             [
              1,
              "#f0f921"
             ]
            ],
            "type": "heatmap"
           }
          ],
          "heatmapgl": [
           {
            "colorbar": {
             "outlinewidth": 0,
             "ticks": ""
            },
            "colorscale": [
             [
              0,
              "#0d0887"
             ],
             [
              0.1111111111111111,
              "#46039f"
             ],
             [
              0.2222222222222222,
              "#7201a8"
             ],
             [
              0.3333333333333333,
              "#9c179e"
             ],
             [
              0.4444444444444444,
              "#bd3786"
             ],
             [
              0.5555555555555556,
              "#d8576b"
             ],
             [
              0.6666666666666666,
              "#ed7953"
             ],
             [
              0.7777777777777778,
              "#fb9f3a"
             ],
             [
              0.8888888888888888,
              "#fdca26"
             ],
             [
              1,
              "#f0f921"
             ]
            ],
            "type": "heatmapgl"
           }
          ],
          "histogram": [
           {
            "marker": {
             "pattern": {
              "fillmode": "overlay",
              "size": 10,
              "solidity": 0.2
             }
            },
            "type": "histogram"
           }
          ],
          "histogram2d": [
           {
            "colorbar": {
             "outlinewidth": 0,
             "ticks": ""
            },
            "colorscale": [
             [
              0,
              "#0d0887"
             ],
             [
              0.1111111111111111,
              "#46039f"
             ],
             [
              0.2222222222222222,
              "#7201a8"
             ],
             [
              0.3333333333333333,
              "#9c179e"
             ],
             [
              0.4444444444444444,
              "#bd3786"
             ],
             [
              0.5555555555555556,
              "#d8576b"
             ],
             [
              0.6666666666666666,
              "#ed7953"
             ],
             [
              0.7777777777777778,
              "#fb9f3a"
             ],
             [
              0.8888888888888888,
              "#fdca26"
             ],
             [
              1,
              "#f0f921"
             ]
            ],
            "type": "histogram2d"
           }
          ],
          "histogram2dcontour": [
           {
            "colorbar": {
             "outlinewidth": 0,
             "ticks": ""
            },
            "colorscale": [
             [
              0,
              "#0d0887"
             ],
             [
              0.1111111111111111,
              "#46039f"
             ],
             [
              0.2222222222222222,
              "#7201a8"
             ],
             [
              0.3333333333333333,
              "#9c179e"
             ],
             [
              0.4444444444444444,
              "#bd3786"
             ],
             [
              0.5555555555555556,
              "#d8576b"
             ],
             [
              0.6666666666666666,
              "#ed7953"
             ],
             [
              0.7777777777777778,
              "#fb9f3a"
             ],
             [
              0.8888888888888888,
              "#fdca26"
             ],
             [
              1,
              "#f0f921"
             ]
            ],
            "type": "histogram2dcontour"
           }
          ],
          "mesh3d": [
           {
            "colorbar": {
             "outlinewidth": 0,
             "ticks": ""
            },
            "type": "mesh3d"
           }
          ],
          "parcoords": [
           {
            "line": {
             "colorbar": {
              "outlinewidth": 0,
              "ticks": ""
             }
            },
            "type": "parcoords"
           }
          ],
          "pie": [
           {
            "automargin": true,
            "type": "pie"
           }
          ],
          "scatter": [
           {
            "fillpattern": {
             "fillmode": "overlay",
             "size": 10,
             "solidity": 0.2
            },
            "type": "scatter"
           }
          ],
          "scatter3d": [
           {
            "line": {
             "colorbar": {
              "outlinewidth": 0,
              "ticks": ""
             }
            },
            "marker": {
             "colorbar": {
              "outlinewidth": 0,
              "ticks": ""
             }
            },
            "type": "scatter3d"
           }
          ],
          "scattercarpet": [
           {
            "marker": {
             "colorbar": {
              "outlinewidth": 0,
              "ticks": ""
             }
            },
            "type": "scattercarpet"
           }
          ],
          "scattergeo": [
           {
            "marker": {
             "colorbar": {
              "outlinewidth": 0,
              "ticks": ""
             }
            },
            "type": "scattergeo"
           }
          ],
          "scattergl": [
           {
            "marker": {
             "colorbar": {
              "outlinewidth": 0,
              "ticks": ""
             }
            },
            "type": "scattergl"
           }
          ],
          "scattermapbox": [
           {
            "marker": {
             "colorbar": {
              "outlinewidth": 0,
              "ticks": ""
             }
            },
            "type": "scattermapbox"
           }
          ],
          "scatterpolar": [
           {
            "marker": {
             "colorbar": {
              "outlinewidth": 0,
              "ticks": ""
             }
            },
            "type": "scatterpolar"
           }
          ],
          "scatterpolargl": [
           {
            "marker": {
             "colorbar": {
              "outlinewidth": 0,
              "ticks": ""
             }
            },
            "type": "scatterpolargl"
           }
          ],
          "scatterternary": [
           {
            "marker": {
             "colorbar": {
              "outlinewidth": 0,
              "ticks": ""
             }
            },
            "type": "scatterternary"
           }
          ],
          "surface": [
           {
            "colorbar": {
             "outlinewidth": 0,
             "ticks": ""
            },
            "colorscale": [
             [
              0,
              "#0d0887"
             ],
             [
              0.1111111111111111,
              "#46039f"
             ],
             [
              0.2222222222222222,
              "#7201a8"
             ],
             [
              0.3333333333333333,
              "#9c179e"
             ],
             [
              0.4444444444444444,
              "#bd3786"
             ],
             [
              0.5555555555555556,
              "#d8576b"
             ],
             [
              0.6666666666666666,
              "#ed7953"
             ],
             [
              0.7777777777777778,
              "#fb9f3a"
             ],
             [
              0.8888888888888888,
              "#fdca26"
             ],
             [
              1,
              "#f0f921"
             ]
            ],
            "type": "surface"
           }
          ],
          "table": [
           {
            "cells": {
             "fill": {
              "color": "#EBF0F8"
             },
             "line": {
              "color": "white"
             }
            },
            "header": {
             "fill": {
              "color": "#C8D4E3"
             },
             "line": {
              "color": "white"
             }
            },
            "type": "table"
           }
          ]
         },
         "layout": {
          "annotationdefaults": {
           "arrowcolor": "#2a3f5f",
           "arrowhead": 0,
           "arrowwidth": 1
          },
          "autotypenumbers": "strict",
          "coloraxis": {
           "colorbar": {
            "outlinewidth": 0,
            "ticks": ""
           }
          },
          "colorscale": {
           "diverging": [
            [
             0,
             "#8e0152"
            ],
            [
             0.1,
             "#c51b7d"
            ],
            [
             0.2,
             "#de77ae"
            ],
            [
             0.3,
             "#f1b6da"
            ],
            [
             0.4,
             "#fde0ef"
            ],
            [
             0.5,
             "#f7f7f7"
            ],
            [
             0.6,
             "#e6f5d0"
            ],
            [
             0.7,
             "#b8e186"
            ],
            [
             0.8,
             "#7fbc41"
            ],
            [
             0.9,
             "#4d9221"
            ],
            [
             1,
             "#276419"
            ]
           ],
           "sequential": [
            [
             0,
             "#0d0887"
            ],
            [
             0.1111111111111111,
             "#46039f"
            ],
            [
             0.2222222222222222,
             "#7201a8"
            ],
            [
             0.3333333333333333,
             "#9c179e"
            ],
            [
             0.4444444444444444,
             "#bd3786"
            ],
            [
             0.5555555555555556,
             "#d8576b"
            ],
            [
             0.6666666666666666,
             "#ed7953"
            ],
            [
             0.7777777777777778,
             "#fb9f3a"
            ],
            [
             0.8888888888888888,
             "#fdca26"
            ],
            [
             1,
             "#f0f921"
            ]
           ],
           "sequentialminus": [
            [
             0,
             "#0d0887"
            ],
            [
             0.1111111111111111,
             "#46039f"
            ],
            [
             0.2222222222222222,
             "#7201a8"
            ],
            [
             0.3333333333333333,
             "#9c179e"
            ],
            [
             0.4444444444444444,
             "#bd3786"
            ],
            [
             0.5555555555555556,
             "#d8576b"
            ],
            [
             0.6666666666666666,
             "#ed7953"
            ],
            [
             0.7777777777777778,
             "#fb9f3a"
            ],
            [
             0.8888888888888888,
             "#fdca26"
            ],
            [
             1,
             "#f0f921"
            ]
           ]
          },
          "colorway": [
           "#636efa",
           "#EF553B",
           "#00cc96",
           "#ab63fa",
           "#FFA15A",
           "#19d3f3",
           "#FF6692",
           "#B6E880",
           "#FF97FF",
           "#FECB52"
          ],
          "font": {
           "color": "#2a3f5f"
          },
          "geo": {
           "bgcolor": "white",
           "lakecolor": "white",
           "landcolor": "#E5ECF6",
           "showlakes": true,
           "showland": true,
           "subunitcolor": "white"
          },
          "hoverlabel": {
           "align": "left"
          },
          "hovermode": "closest",
          "mapbox": {
           "style": "light"
          },
          "paper_bgcolor": "white",
          "plot_bgcolor": "#E5ECF6",
          "polar": {
           "angularaxis": {
            "gridcolor": "white",
            "linecolor": "white",
            "ticks": ""
           },
           "bgcolor": "#E5ECF6",
           "radialaxis": {
            "gridcolor": "white",
            "linecolor": "white",
            "ticks": ""
           }
          },
          "scene": {
           "xaxis": {
            "backgroundcolor": "#E5ECF6",
            "gridcolor": "white",
            "gridwidth": 2,
            "linecolor": "white",
            "showbackground": true,
            "ticks": "",
            "zerolinecolor": "white"
           },
           "yaxis": {
            "backgroundcolor": "#E5ECF6",
            "gridcolor": "white",
            "gridwidth": 2,
            "linecolor": "white",
            "showbackground": true,
            "ticks": "",
            "zerolinecolor": "white"
           },
           "zaxis": {
            "backgroundcolor": "#E5ECF6",
            "gridcolor": "white",
            "gridwidth": 2,
            "linecolor": "white",
            "showbackground": true,
            "ticks": "",
            "zerolinecolor": "white"
           }
          },
          "shapedefaults": {
           "line": {
            "color": "#2a3f5f"
           }
          },
          "ternary": {
           "aaxis": {
            "gridcolor": "white",
            "linecolor": "white",
            "ticks": ""
           },
           "baxis": {
            "gridcolor": "white",
            "linecolor": "white",
            "ticks": ""
           },
           "bgcolor": "#E5ECF6",
           "caxis": {
            "gridcolor": "white",
            "linecolor": "white",
            "ticks": ""
           }
          },
          "title": {
           "x": 0.05
          },
          "xaxis": {
           "automargin": true,
           "gridcolor": "white",
           "linecolor": "white",
           "ticks": "",
           "title": {
            "standoff": 15
           },
           "zerolinecolor": "white",
           "zerolinewidth": 2
          },
          "yaxis": {
           "automargin": true,
           "gridcolor": "white",
           "linecolor": "white",
           "ticks": "",
           "title": {
            "standoff": 15
           },
           "zerolinecolor": "white",
           "zerolinewidth": 2
          }
         }
        },
        "title": {
         "text": "图: 已敲入雪球产品的希腊字母"
        },
        "width": 1200,
        "xaxis": {
         "anchor": "y",
         "domain": [
          0,
          0.2888888888888889
         ],
         "tickvals": [
          0.5,
          0.7,
          0.9,
          1.1,
          1.3,
          1.5
         ],
         "title": {
          "text": "S0"
         }
        },
        "xaxis2": {
         "anchor": "y2",
         "domain": [
          0.35555555555555557,
          0.6444444444444445
         ],
         "tickvals": [
          0.5,
          0.7,
          0.9,
          1.1,
          1.3,
          1.5
         ],
         "title": {
          "text": "S0"
         }
        },
        "xaxis3": {
         "anchor": "y3",
         "domain": [
          0.7111111111111111,
          1
         ],
         "tickvals": [
          0.5,
          0.7,
          0.9,
          1.1,
          1.3,
          1.5
         ],
         "title": {
          "text": "S0"
         }
        },
        "xaxis4": {
         "anchor": "y4",
         "domain": [
          0,
          0.2888888888888889
         ],
         "tickvals": [
          0.5,
          0.7,
          0.9,
          1.1,
          1.3,
          1.5
         ],
         "title": {
          "text": "S0"
         }
        },
        "xaxis5": {
         "anchor": "y5",
         "domain": [
          0.35555555555555557,
          0.6444444444444445
         ],
         "tickvals": [
          0.5,
          0.7,
          0.9,
          1.1,
          1.3,
          1.5
         ],
         "title": {
          "text": "S0"
         }
        },
        "xaxis6": {
         "anchor": "y6",
         "domain": [
          0.7111111111111111,
          1
         ],
         "tickvals": [
          0.5,
          0.7,
          0.9,
          1.1,
          1.3,
          1.5
         ],
         "title": {
          "text": "S0"
         }
        },
        "yaxis": {
         "anchor": "x",
         "domain": [
          0.625,
          1
         ]
        },
        "yaxis2": {
         "anchor": "x2",
         "domain": [
          0.625,
          1
         ]
        },
        "yaxis3": {
         "anchor": "x3",
         "domain": [
          0.625,
          1
         ]
        },
        "yaxis4": {
         "anchor": "x4",
         "domain": [
          0,
          0.375
         ]
        },
        "yaxis5": {
         "anchor": "x5",
         "domain": [
          0,
          0.375
         ]
        },
        "yaxis6": {
         "anchor": "x6",
         "domain": [
          0,
          0.375
         ]
        }
       }
      }
     },
     "metadata": {},
     "output_type": "display_data"
    }
   ],
   "source": [
    "import deriv_func as defu\n",
    "import numpy as np\n",
    "import pandas as pd\n",
    "from tqdm import tqdm\n",
    "import plotly as py\n",
    "import plotly.graph_objects as go\n",
    "from plotly.subplots import make_subplots\n",
    "\n",
    "X0=7272.75\n",
    "S0,K,KI,KO,T,coupon,r,sigma,q0=1.0,1.0,0.75,1.0,1,0.2,0.03,0.13,0.0\n",
    "greeks_mat=[]\n",
    "for S0 in tqdm(np.linspace(0.5,1.5,101)):\n",
    "  delta, gamma, vega, theta, rho, pv= defu.df_snowball_option_knockedin_greeks(S0,K,KI,KO,T,coupon,r,sigma,q=q0)\n",
    "  greeks_mat.append([delta,gamma,vega,theta,rho,pv])\n",
    "greeks_DF=pd.DataFrame(greeks_mat,columns=['delta','gamma','vega','theta','rho','pv'],index=np.linspace(0.5,1.5,101))\n",
    "\n",
    "\n",
    "fig = make_subplots(rows=2, cols=3, subplot_titles=['delta','gamma','vega','theta','rho','pv'])\n",
    "fig.add_trace(\n",
    "    go.Scatter(\n",
    "        x=np.linspace(0.5,1.5,101),  \n",
    "        y=greeks_DF['delta'], \n",
    "        mode='lines',\n",
    "        name='delta'),\n",
    "        row=1,\n",
    "        col=1\n",
    ")\n",
    "fig.add_trace(\n",
    "    go.Scatter(\n",
    "        x=np.linspace(0.5,1.5,101),  \n",
    "        y=greeks_DF['gamma'], \n",
    "        mode='lines',\n",
    "        name='gamma'),\n",
    "        row=1,\n",
    "        col=2\n",
    ")\n",
    "fig.add_trace(\n",
    "    go.Scatter(\n",
    "        x=np.linspace(0.5,1.5,101),  \n",
    "        y=greeks_DF['vega'], \n",
    "        mode='lines',\n",
    "        name='vega'),\n",
    "        row=1,\n",
    "        col=3\n",
    ")\n",
    "fig.add_trace(\n",
    "    go.Scatter(\n",
    "        x=np.linspace(0.5,1.5,101),  \n",
    "        y=greeks_DF['theta'], \n",
    "        mode='lines',\n",
    "        name='theta'),\n",
    "        row=2,\n",
    "        col=1\n",
    ")\n",
    "fig.add_trace(\n",
    "    go.Scatter(\n",
    "        x=np.linspace(0.5,1.5,101),  \n",
    "        y=greeks_DF['rho'], \n",
    "        mode='lines',\n",
    "        name='rho'),\n",
    "        row=2,\n",
    "        col=2\n",
    ")\n",
    "fig.add_trace(\n",
    "    go.Scatter(\n",
    "        x=np.linspace(0.5,1.5,101),  \n",
    "        y=greeks_DF['pv'], \n",
    "        mode='lines',\n",
    "        name='pv'),\n",
    "        row=2,\n",
    "        col=3\n",
    ")\n",
    "fig.update_xaxes(title_text=\"S0\", row=1, col=1)\n",
    "fig.update_xaxes(title_text=\"S0\", row=1, col=2)\n",
    "fig.update_xaxes(title_text=\"S0\", row=1, col=3)\n",
    "fig.update_xaxes(title_text=\"S0\", row=2, col=1)\n",
    "fig.update_xaxes(title_text=\"S0\", row=2, col=2)\n",
    "fig.update_xaxes(title_text=\"S0\", row=2, col=3)\n",
    "ax_x_tickvals=[0.5,0.7,0.9,1.1,1.3,1.5]\n",
    "for ax in fig['layout']:\n",
    "    if ax[:5]=='xaxis':\n",
    "        fig['layout'][ax]['tickvals']=ax_x_tickvals\n",
    "fig.update_layout(\n",
    "    height=600,\n",
    "    width=1200,\n",
    "    title_text='图: 已敲入雪球产品的希腊字母',\n",
    "    showlegend=False\n",
    ")\n",
    "fig.show()"
   ]
  },
  {
   "cell_type": "markdown",
   "metadata": {},
   "source": [
    "### Script 11. 亚式期权的MC定价"
   ]
  },
  {
   "cell_type": "code",
   "execution_count": 2,
   "metadata": {},
   "outputs": [
    {
     "name": "stdout",
     "output_type": "stream",
     "text": [
      "0.03695787342601338\n"
     ]
    },
    {
     "data": {
      "text/html": [
       "<div>\n",
       "<style scoped>\n",
       "    .dataframe tbody tr th:only-of-type {\n",
       "        vertical-align: middle;\n",
       "    }\n",
       "\n",
       "    .dataframe tbody tr th {\n",
       "        vertical-align: top;\n",
       "    }\n",
       "\n",
       "    .dataframe thead th {\n",
       "        text-align: right;\n",
       "    }\n",
       "</style>\n",
       "<table border=\"1\" class=\"dataframe\">\n",
       "  <thead>\n",
       "    <tr style=\"text-align: right;\">\n",
       "      <th></th>\n",
       "      <th>0</th>\n",
       "    </tr>\n",
       "  </thead>\n",
       "  <tbody>\n",
       "    <tr>\n",
       "      <th>count</th>\n",
       "      <td>500000.000000</td>\n",
       "    </tr>\n",
       "    <tr>\n",
       "      <th>mean</th>\n",
       "      <td>0.036958</td>\n",
       "    </tr>\n",
       "    <tr>\n",
       "      <th>std</th>\n",
       "      <td>0.050147</td>\n",
       "    </tr>\n",
       "    <tr>\n",
       "      <th>min</th>\n",
       "      <td>0.000000</td>\n",
       "    </tr>\n",
       "    <tr>\n",
       "      <th>25%</th>\n",
       "      <td>0.000000</td>\n",
       "    </tr>\n",
       "    <tr>\n",
       "      <th>50%</th>\n",
       "      <td>0.011248</td>\n",
       "    </tr>\n",
       "    <tr>\n",
       "      <th>75%</th>\n",
       "      <td>0.062153</td>\n",
       "    </tr>\n",
       "    <tr>\n",
       "      <th>max</th>\n",
       "      <td>0.445116</td>\n",
       "    </tr>\n",
       "  </tbody>\n",
       "</table>\n",
       "</div>"
      ],
      "text/plain": [
       "                   0\n",
       "count  500000.000000\n",
       "mean        0.036958\n",
       "std         0.050147\n",
       "min         0.000000\n",
       "25%         0.000000\n",
       "50%         0.011248\n",
       "75%         0.062153\n",
       "max         0.445116"
      ]
     },
     "execution_count": 2,
     "metadata": {},
     "output_type": "execute_result"
    }
   ],
   "source": [
    "import deriv_func as defu\n",
    "import numpy as np\n",
    "S0,K,T,r,sigma=1,1,1,0.03,0.13\n",
    "asia_price, payoff_discount_list = defu.mc_asia_option_pricing(S0,K,T,r,sigma,simu_n=500000,asia_type='aveprice',opt_type='call')\n",
    "print(asia_price)\n",
    "import pandas as pd\n",
    "payoff_discount_DF=pd.DataFrame(payoff_discount_list)\n",
    "payoff_discount_DF.describe()"
   ]
  },
  {
   "cell_type": "code",
   "execution_count": null,
   "metadata": {},
   "outputs": [],
   "source": []
  }
 ],
 "metadata": {
  "kernelspec": {
   "display_name": "Python 3.9.7 ('base')",
   "language": "python",
   "name": "python3"
  },
  "language_info": {
   "codemirror_mode": {
    "name": "ipython",
    "version": 3
   },
   "file_extension": ".py",
   "mimetype": "text/x-python",
   "name": "python",
   "nbconvert_exporter": "python",
   "pygments_lexer": "ipython3",
   "version": "3.9.7"
  },
  "orig_nbformat": 4,
  "vscode": {
   "interpreter": {
    "hash": "e42634819b8c191a5d07eaf23810ff32516dd8d3875f28ec3e488928fbd3c187"
   }
  }
 },
 "nbformat": 4,
 "nbformat_minor": 2
}
